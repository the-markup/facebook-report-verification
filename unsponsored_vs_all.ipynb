{
 "cells": [
  {
   "cell_type": "code",
   "execution_count": 12,
   "id": "708970c7",
   "metadata": {},
   "outputs": [],
   "source": [
    "from contextlib import closing\n",
    "from citizen_browser_parsers import rds_connect\n",
    "\n",
    "import matplotlib.pyplot as plt\n",
    "import seaborn as sns\n",
    "from tqdm.notebook import tqdm\n",
    "from scipy import stats\n",
    "\n",
    "from analysis import FBCBData, load_cb_all, load_cb_unsponsored"
   ]
  },
  {
   "cell_type": "code",
   "execution_count": 6,
   "id": "2b8fc524",
   "metadata": {},
   "outputs": [],
   "source": [
    "db_params = {\n",
    "    \"endpoint\": \"citizenbrowser.cjfrb8ed0b9b.us-east-2.rds.amazonaws.com\",\n",
    "    \"profile\": \"markup_prod\",\n",
    "}\n",
    "with closing(rds_connect(**db_params)) as db:\n",
    "    data_all = FBCBData(db, load_cb=load_cb_all)\n",
    "    data_us = FBCBData(db, load_cb=load_cb_unsponsored)"
   ]
  },
  {
   "cell_type": "code",
   "execution_count": 10,
   "id": "6b2592ad",
   "metadata": {},
   "outputs": [],
   "source": [
    "df_all = data_all.joined_domains()\n",
    "df_us = data_us.joined_domains()"
   ]
  },
  {
   "cell_type": "code",
   "execution_count": 11,
   "id": "298428f2",
   "metadata": {},
   "outputs": [
    {
     "data": {
      "text/html": [
       "<div>\n",
       "<style scoped>\n",
       "    .dataframe tbody tr th:only-of-type {\n",
       "        vertical-align: middle;\n",
       "    }\n",
       "\n",
       "    .dataframe tbody tr th {\n",
       "        vertical-align: top;\n",
       "    }\n",
       "\n",
       "    .dataframe thead th {\n",
       "        text-align: right;\n",
       "    }\n",
       "</style>\n",
       "<table border=\"1\" class=\"dataframe\">\n",
       "  <thead>\n",
       "    <tr style=\"text-align: right;\">\n",
       "      <th></th>\n",
       "      <th>unique_users_cb_all</th>\n",
       "      <th>rank_cb_all</th>\n",
       "      <th>rank_fb_all</th>\n",
       "      <th>unique_users_fb_all</th>\n",
       "      <th>unique_users_cb_us</th>\n",
       "      <th>rank_cb_us</th>\n",
       "      <th>rank_fb_us</th>\n",
       "      <th>unique_users_fb_us</th>\n",
       "    </tr>\n",
       "    <tr>\n",
       "      <th>url_domain</th>\n",
       "      <th></th>\n",
       "      <th></th>\n",
       "      <th></th>\n",
       "      <th></th>\n",
       "      <th></th>\n",
       "      <th></th>\n",
       "      <th></th>\n",
       "      <th></th>\n",
       "    </tr>\n",
       "  </thead>\n",
       "  <tbody>\n",
       "    <tr>\n",
       "      <th>youtube.com</th>\n",
       "      <td>1614</td>\n",
       "      <td>1</td>\n",
       "      <td>1</td>\n",
       "      <td>1.813000e+11</td>\n",
       "      <td>1604</td>\n",
       "      <td>1</td>\n",
       "      <td>1</td>\n",
       "      <td>1.813000e+11</td>\n",
       "    </tr>\n",
       "    <tr>\n",
       "      <th>amazon.com</th>\n",
       "      <td>1249</td>\n",
       "      <td>4</td>\n",
       "      <td>2</td>\n",
       "      <td>1.346000e+11</td>\n",
       "      <td>1041</td>\n",
       "      <td>4</td>\n",
       "      <td>2</td>\n",
       "      <td>1.346000e+11</td>\n",
       "    </tr>\n",
       "    <tr>\n",
       "      <th>unicef.org</th>\n",
       "      <td>916</td>\n",
       "      <td>9</td>\n",
       "      <td>3</td>\n",
       "      <td>1.344000e+11</td>\n",
       "      <td>865</td>\n",
       "      <td>8</td>\n",
       "      <td>3</td>\n",
       "      <td>1.344000e+11</td>\n",
       "    </tr>\n",
       "    <tr>\n",
       "      <th>gofundme.com</th>\n",
       "      <td>768</td>\n",
       "      <td>16</td>\n",
       "      <td>4</td>\n",
       "      <td>1.248000e+11</td>\n",
       "      <td>761</td>\n",
       "      <td>13</td>\n",
       "      <td>4</td>\n",
       "      <td>1.248000e+11</td>\n",
       "    </tr>\n",
       "    <tr>\n",
       "      <th>twitter.com</th>\n",
       "      <td>1010</td>\n",
       "      <td>6</td>\n",
       "      <td>5</td>\n",
       "      <td>1.161000e+11</td>\n",
       "      <td>978</td>\n",
       "      <td>5</td>\n",
       "      <td>5</td>\n",
       "      <td>1.161000e+11</td>\n",
       "    </tr>\n",
       "    <tr>\n",
       "      <th>media1.tenor.co</th>\n",
       "      <td>815</td>\n",
       "      <td>13</td>\n",
       "      <td>6</td>\n",
       "      <td>1.156000e+11</td>\n",
       "      <td>815</td>\n",
       "      <td>11</td>\n",
       "      <td>6</td>\n",
       "      <td>1.156000e+11</td>\n",
       "    </tr>\n",
       "    <tr>\n",
       "      <th>m.tiktok.com</th>\n",
       "      <td>601</td>\n",
       "      <td>31</td>\n",
       "      <td>7</td>\n",
       "      <td>1.107000e+11</td>\n",
       "      <td>599</td>\n",
       "      <td>24</td>\n",
       "      <td>7</td>\n",
       "      <td>1.107000e+11</td>\n",
       "    </tr>\n",
       "    <tr>\n",
       "      <th>open.spotify.com</th>\n",
       "      <td>680</td>\n",
       "      <td>21</td>\n",
       "      <td>8</td>\n",
       "      <td>9.300000e+10</td>\n",
       "      <td>639</td>\n",
       "      <td>20</td>\n",
       "      <td>8</td>\n",
       "      <td>9.300000e+10</td>\n",
       "    </tr>\n",
       "    <tr>\n",
       "      <th>playeralumniresources.com</th>\n",
       "      <td>462</td>\n",
       "      <td>50</td>\n",
       "      <td>9</td>\n",
       "      <td>8.990000e+10</td>\n",
       "      <td>462</td>\n",
       "      <td>38</td>\n",
       "      <td>9</td>\n",
       "      <td>8.990000e+10</td>\n",
       "    </tr>\n",
       "    <tr>\n",
       "      <th>abcnews.go.com</th>\n",
       "      <td>610</td>\n",
       "      <td>28</td>\n",
       "      <td>10</td>\n",
       "      <td>8.810000e+10</td>\n",
       "      <td>592</td>\n",
       "      <td>25</td>\n",
       "      <td>10</td>\n",
       "      <td>8.810000e+10</td>\n",
       "    </tr>\n",
       "    <tr>\n",
       "      <th>linktr.ee</th>\n",
       "      <td>352</td>\n",
       "      <td>92</td>\n",
       "      <td>11</td>\n",
       "      <td>8.790000e+10</td>\n",
       "      <td>325</td>\n",
       "      <td>77</td>\n",
       "      <td>11</td>\n",
       "      <td>8.790000e+10</td>\n",
       "    </tr>\n",
       "    <tr>\n",
       "      <th>dailymail.co.uk</th>\n",
       "      <td>662</td>\n",
       "      <td>25</td>\n",
       "      <td>12</td>\n",
       "      <td>8.650000e+10</td>\n",
       "      <td>635</td>\n",
       "      <td>21</td>\n",
       "      <td>12</td>\n",
       "      <td>8.650000e+10</td>\n",
       "    </tr>\n",
       "    <tr>\n",
       "      <th>docs.google.com</th>\n",
       "      <td>580</td>\n",
       "      <td>34</td>\n",
       "      <td>13</td>\n",
       "      <td>8.580000e+10</td>\n",
       "      <td>541</td>\n",
       "      <td>29</td>\n",
       "      <td>13</td>\n",
       "      <td>8.580000e+10</td>\n",
       "    </tr>\n",
       "    <tr>\n",
       "      <th>etsy.com</th>\n",
       "      <td>666</td>\n",
       "      <td>24</td>\n",
       "      <td>14</td>\n",
       "      <td>8.550000e+10</td>\n",
       "      <td>614</td>\n",
       "      <td>23</td>\n",
       "      <td>14</td>\n",
       "      <td>8.550000e+10</td>\n",
       "    </tr>\n",
       "    <tr>\n",
       "      <th>nbcnews.com</th>\n",
       "      <td>874</td>\n",
       "      <td>10</td>\n",
       "      <td>15</td>\n",
       "      <td>8.310000e+10</td>\n",
       "      <td>851</td>\n",
       "      <td>9</td>\n",
       "      <td>15</td>\n",
       "      <td>8.310000e+10</td>\n",
       "    </tr>\n",
       "    <tr>\n",
       "      <th>cnn.com</th>\n",
       "      <td>865</td>\n",
       "      <td>11</td>\n",
       "      <td>16</td>\n",
       "      <td>8.280000e+10</td>\n",
       "      <td>843</td>\n",
       "      <td>10</td>\n",
       "      <td>16</td>\n",
       "      <td>8.280000e+10</td>\n",
       "    </tr>\n",
       "    <tr>\n",
       "      <th>google.com</th>\n",
       "      <td>632</td>\n",
       "      <td>27</td>\n",
       "      <td>17</td>\n",
       "      <td>7.860000e+01</td>\n",
       "      <td>587</td>\n",
       "      <td>26</td>\n",
       "      <td>17</td>\n",
       "      <td>7.860000e+01</td>\n",
       "    </tr>\n",
       "    <tr>\n",
       "      <th>eventbrite.com</th>\n",
       "      <td>604</td>\n",
       "      <td>30</td>\n",
       "      <td>18</td>\n",
       "      <td>7.840000e+10</td>\n",
       "      <td>541</td>\n",
       "      <td>30</td>\n",
       "      <td>18</td>\n",
       "      <td>7.840000e+10</td>\n",
       "    </tr>\n",
       "    <tr>\n",
       "      <th>cbsnews.com</th>\n",
       "      <td>670</td>\n",
       "      <td>23</td>\n",
       "      <td>19</td>\n",
       "      <td>7.710000e+10</td>\n",
       "      <td>644</td>\n",
       "      <td>19</td>\n",
       "      <td>19</td>\n",
       "      <td>7.710000e+10</td>\n",
       "    </tr>\n",
       "    <tr>\n",
       "      <th>vimeo.com</th>\n",
       "      <td>322</td>\n",
       "      <td>104</td>\n",
       "      <td>20</td>\n",
       "      <td>7.690000e+10</td>\n",
       "      <td>297</td>\n",
       "      <td>86</td>\n",
       "      <td>20</td>\n",
       "      <td>7.690000e+10</td>\n",
       "    </tr>\n",
       "  </tbody>\n",
       "</table>\n",
       "</div>"
      ],
      "text/plain": [
       "                           unique_users_cb_all  rank_cb_all  rank_fb_all  \\\n",
       "url_domain                                                                 \n",
       "youtube.com                               1614            1            1   \n",
       "amazon.com                                1249            4            2   \n",
       "unicef.org                                 916            9            3   \n",
       "gofundme.com                               768           16            4   \n",
       "twitter.com                               1010            6            5   \n",
       "media1.tenor.co                            815           13            6   \n",
       "m.tiktok.com                               601           31            7   \n",
       "open.spotify.com                           680           21            8   \n",
       "playeralumniresources.com                  462           50            9   \n",
       "abcnews.go.com                             610           28           10   \n",
       "linktr.ee                                  352           92           11   \n",
       "dailymail.co.uk                            662           25           12   \n",
       "docs.google.com                            580           34           13   \n",
       "etsy.com                                   666           24           14   \n",
       "nbcnews.com                                874           10           15   \n",
       "cnn.com                                    865           11           16   \n",
       "google.com                                 632           27           17   \n",
       "eventbrite.com                             604           30           18   \n",
       "cbsnews.com                                670           23           19   \n",
       "vimeo.com                                  322          104           20   \n",
       "\n",
       "                           unique_users_fb_all  unique_users_cb_us  \\\n",
       "url_domain                                                           \n",
       "youtube.com                       1.813000e+11                1604   \n",
       "amazon.com                        1.346000e+11                1041   \n",
       "unicef.org                        1.344000e+11                 865   \n",
       "gofundme.com                      1.248000e+11                 761   \n",
       "twitter.com                       1.161000e+11                 978   \n",
       "media1.tenor.co                   1.156000e+11                 815   \n",
       "m.tiktok.com                      1.107000e+11                 599   \n",
       "open.spotify.com                  9.300000e+10                 639   \n",
       "playeralumniresources.com         8.990000e+10                 462   \n",
       "abcnews.go.com                    8.810000e+10                 592   \n",
       "linktr.ee                         8.790000e+10                 325   \n",
       "dailymail.co.uk                   8.650000e+10                 635   \n",
       "docs.google.com                   8.580000e+10                 541   \n",
       "etsy.com                          8.550000e+10                 614   \n",
       "nbcnews.com                       8.310000e+10                 851   \n",
       "cnn.com                           8.280000e+10                 843   \n",
       "google.com                        7.860000e+01                 587   \n",
       "eventbrite.com                    7.840000e+10                 541   \n",
       "cbsnews.com                       7.710000e+10                 644   \n",
       "vimeo.com                         7.690000e+10                 297   \n",
       "\n",
       "                           rank_cb_us  rank_fb_us  unique_users_fb_us  \n",
       "url_domain                                                             \n",
       "youtube.com                         1           1        1.813000e+11  \n",
       "amazon.com                          4           2        1.346000e+11  \n",
       "unicef.org                          8           3        1.344000e+11  \n",
       "gofundme.com                       13           4        1.248000e+11  \n",
       "twitter.com                         5           5        1.161000e+11  \n",
       "media1.tenor.co                    11           6        1.156000e+11  \n",
       "m.tiktok.com                       24           7        1.107000e+11  \n",
       "open.spotify.com                   20           8        9.300000e+10  \n",
       "playeralumniresources.com          38           9        8.990000e+10  \n",
       "abcnews.go.com                     25          10        8.810000e+10  \n",
       "linktr.ee                          77          11        8.790000e+10  \n",
       "dailymail.co.uk                    21          12        8.650000e+10  \n",
       "docs.google.com                    29          13        8.580000e+10  \n",
       "etsy.com                           23          14        8.550000e+10  \n",
       "nbcnews.com                         9          15        8.310000e+10  \n",
       "cnn.com                            10          16        8.280000e+10  \n",
       "google.com                         26          17        7.860000e+01  \n",
       "eventbrite.com                     30          18        7.840000e+10  \n",
       "cbsnews.com                        19          19        7.710000e+10  \n",
       "vimeo.com                          86          20        7.690000e+10  "
      ]
     },
     "execution_count": 11,
     "metadata": {},
     "output_type": "execute_result"
    }
   ],
   "source": [
    "df_all.join(df_us, lsuffix='_all', rsuffix='_us')"
   ]
  },
  {
   "cell_type": "code",
   "execution_count": 14,
   "id": "8c77cf31",
   "metadata": {},
   "outputs": [
    {
     "data": {
      "text/plain": [
       "KendalltauResult(correlation=0.6526315789473685, pvalue=1.7153751868888245e-05)"
      ]
     },
     "execution_count": 14,
     "metadata": {},
     "output_type": "execute_result"
    }
   ],
   "source": [
    "stats.kendalltau(df_us.sort_values('rank_cb').index, df_all.sort_values('rank_cb').index)"
   ]
  },
  {
   "cell_type": "code",
   "execution_count": 18,
   "id": "fc93b09f",
   "metadata": {},
   "outputs": [
    {
     "data": {
      "text/plain": [
       "KendalltauResult(correlation=0.4736842105263158, pvalue=0.0029943591168169765)"
      ]
     },
     "execution_count": 18,
     "metadata": {},
     "output_type": "execute_result"
    }
   ],
   "source": [
    "data_all.correlation_domains()"
   ]
  },
  {
   "cell_type": "code",
   "execution_count": 19,
   "id": "e424cd13",
   "metadata": {},
   "outputs": [
    {
     "data": {
      "text/plain": [
       "KendalltauResult(correlation=0.2736842105263158, pvalue=0.0983302187347563)"
      ]
     },
     "execution_count": 19,
     "metadata": {},
     "output_type": "execute_result"
    }
   ],
   "source": [
    "data_us.correlation_domains()"
   ]
  },
  {
   "cell_type": "code",
   "execution_count": 22,
   "id": "be12b0e1",
   "metadata": {},
   "outputs": [
    {
     "data": {
      "text/plain": [
       "<AxesSubplot:xlabel='rank_fb', ylabel='rank_cb'>"
      ]
     },
     "execution_count": 22,
     "metadata": {},
     "output_type": "execute_result"
    },
    {
     "data": {
      "image/png": "[encoded data removed]",
      "text/plain": [
       "<Figure size 432x288 with 1 Axes>"
      ]
     },
     "metadata": {
      "needs_background": "light"
     },
     "output_type": "display_data"
    }
   ],
   "source": [
    "sns.scatterplot(data=df_all, x='rank_fb', y='rank_cb')"
   ]
  },
  {
   "cell_type": "code",
   "execution_count": 23,
   "id": "9da61159",
   "metadata": {},
   "outputs": [
    {
     "data": {
      "text/plain": [
       "<AxesSubplot:xlabel='rank_fb', ylabel='rank_cb'>"
      ]
     },
     "execution_count": 23,
     "metadata": {},
     "output_type": "execute_result"
    },
    {
     "data": {
      "image/png": "[encoded data removed]",
      "text/plain": [
       "<Figure size 432x288 with 1 Axes>"
      ]
     },
     "metadata": {
      "needs_background": "light"
     },
     "output_type": "display_data"
    }
   ],
   "source": [
    "sns.scatterplot(data=df_us, x='rank_fb', y='rank_cb')"
   ]
  },
  {
   "cell_type": "code",
   "execution_count": 24,
   "id": "4ccb6a0e",
   "metadata": {},
   "outputs": [
    {
     "data": {
      "text/plain": [
       "<AxesSubplot:xlabel='unique_users_fb', ylabel='unique_users_cb'>"
      ]
     },
     "execution_count": 24,
     "metadata": {},
     "output_type": "execute_result"
    },
    {
     "data": {
      "image/png": "[encoded data removed]",
      "text/plain": [
       "<Figure size 432x288 with 1 Axes>"
      ]
     },
     "metadata": {
      "needs_background": "light"
     },
     "output_type": "display_data"
    }
   ],
   "source": [
    "sns.scatterplot(data=df_us, x='unique_users_fb', y='unique_users_cb')"
   ]
  },
  {
   "cell_type": "code",
   "execution_count": 25,
   "id": "64f3a3f7",
   "metadata": {},
   "outputs": [
    {
     "data": {
      "text/plain": [
       "<AxesSubplot:xlabel='unique_users_fb', ylabel='unique_users_cb'>"
      ]
     },
     "execution_count": 25,
     "metadata": {},
     "output_type": "execute_result"
    },
    {
     "data": {
      "image/png": "[encoded data removed]",
      "text/plain": [
       "<Figure size 432x288 with 1 Axes>"
      ]
     },
     "metadata": {
      "needs_background": "light"
     },
     "output_type": "display_data"
    }
   ],
   "source": [
    "sns.scatterplot(data=df_all, x='unique_users_fb', y='unique_users_cb')"
   ]
  },
  {
   "cell_type": "code",
   "execution_count": 29,
   "id": "b3b72f7b",
   "metadata": {},
   "outputs": [
    {
     "data": {
      "text/plain": [
       "KendalltauResult(correlation=0.4631578947368421, pvalue=0.003782664567027279)"
      ]
     },
     "execution_count": 29,
     "metadata": {},
     "output_type": "execute_result"
    }
   ],
   "source": [
    "d = df_us.sort_values('rank_fb')\n",
    "stats.kendalltau(d.rank_fb, d.rank_cb)"
   ]
  },
  {
   "cell_type": "code",
   "execution_count": 27,
   "id": "14452b35",
   "metadata": {},
   "outputs": [
    {
     "data": {
      "text/plain": [
       "KendalltauResult(correlation=0.4105263157894737, pvalue=0.011101359934968412)"
      ]
     },
     "execution_count": 27,
     "metadata": {},
     "output_type": "execute_result"
    }
   ],
   "source": [
    "d = df_all.sort_values('rank_fb')\n",
    "stats.kendalltau(d.rank_fb, d.rank_cb)"
   ]
  },
  {
   "cell_type": "code",
   "execution_count": null,
   "id": "530c9ade",
   "metadata": {},
   "outputs": [],
   "source": []
  }
 ],
 "metadata": {
  "kernelspec": {
   "display_name": "Python 3 (ipykernel)",
   "language": "python",
   "name": "python3"
  },
  "language_info": {
   "codemirror_mode": {
    "name": "ipython",
    "version": 3
   },
   "file_extension": ".py",
   "mimetype": "text/x-python",
   "name": "python",
   "nbconvert_exporter": "python",
   "pygments_lexer": "ipython3",
   "version": "3.8.6"
  }
 },
 "nbformat": 4,
 "nbformat_minor": 5
}
