{
 "cells": [
  {
   "cell_type": "markdown",
   "id": "bbb30a93",
   "metadata": {},
   "source": [
    "# Facebook Report Domain List Verification\n",
    "\n",
    "The purpose of this notebook is to analyze the list of top domains provided by Facebook in their \"transparency report Q3\" with the corresponding top domain list from Citizen Browser during the same time. The hope is that we can use these two lists to show that our results are indeed correlated with the general trends seen on facebook in order to give us confidence in results we see from other parts of the data."
   ]
  },
  {
   "cell_type": "code",
   "execution_count": 1,
   "id": "d6100ebf",
   "metadata": {},
   "outputs": [],
   "source": [
    "%matplotlib inline"
   ]
  },
  {
   "cell_type": "code",
   "execution_count": 2,
   "id": "032f9337",
   "metadata": {},
   "outputs": [],
   "source": [
    "import matplotlib.pyplot as plt\n",
    "import seaborn as sns\n",
    "import dataframe_image as dfi\n",
    "from matplotlib.ticker import FormatStrFormatter\n",
    "\n",
    "from tqdm.notebook import tqdm\n",
    "\n",
    "import numpy as np\n",
    "import pandas as pd\n",
    "import rbo\n",
    "\n",
    "from analysis import FBCBData, load_cb_unsponsored\n",
    "from utils import save_tabular"
   ]
  },
  {
   "cell_type": "code",
   "execution_count": 3,
   "id": "dbb7bb2f",
   "metadata": {},
   "outputs": [
    {
     "name": "stdout",
     "output_type": "stream",
     "text": [
      "Found query cache: data/query_cache/5482d4efb1ef9376d2a905594cb9fbec.csv\n"
     ]
    }
   ],
   "source": [
    "data = FBCBData(load_cb=load_cb_unsponsored)"
   ]
  },
  {
   "cell_type": "markdown",
   "id": "8a1422fb",
   "metadata": {},
   "source": [
    "First let's make the dataframe human readible to have a nice view for the methodology."
   ]
  },
  {
   "cell_type": "code",
   "execution_count": 4,
   "id": "765c84a2",
   "metadata": {},
   "outputs": [
    {
     "name": "stdout",
     "output_type": "stream",
     "text": [
      "<class 'pandas.core.frame.DataFrame'>\n",
      "Index: 20 entries, youtube.com to etsy.com\n",
      "Data columns (total 5 columns):\n",
      " #   Column           Non-Null Count  Dtype\n",
      "---  ------           --------------  -----\n",
      " 0   Unnamed: 0       20 non-null     int64\n",
      " 1   unique_users_cb  20 non-null     int64\n",
      " 2   rank_cb          20 non-null     int64\n",
      " 3   rank_fb          20 non-null     int64\n",
      " 4   unique_users_fb  20 non-null     int64\n",
      "dtypes: int64(5)\n",
      "memory usage: 960.0+ bytes\n",
      "None\n"
     ]
    },
    {
     "name": "stderr",
     "output_type": "stream",
     "text": [
      "[1118/085714.150094:ERROR:gpu_init.cc(453)] Passthrough is not supported, GL is swiftshader, ANGLE is \n",
      "[1118/085714.353607:INFO:headless_shell.cc(653)] Written to file /tmp/tmp48vgc9iq/temp.png.\n"
     ]
    },
    {
     "data": {
      "text/html": [
       "<div>\n",
       "<style scoped>\n",
       "    .dataframe tbody tr th:only-of-type {\n",
       "        vertical-align: middle;\n",
       "    }\n",
       "\n",
       "    .dataframe tbody tr th {\n",
       "        vertical-align: top;\n",
       "    }\n",
       "\n",
       "    .dataframe thead th {\n",
       "        text-align: right;\n",
       "    }\n",
       "</style>\n",
       "<table border=\"1\" class=\"dataframe\">\n",
       "  <thead>\n",
       "    <tr style=\"text-align: right;\">\n",
       "      <th></th>\n",
       "      <th>Unique Citizen Browser Users</th>\n",
       "      <th>Ranking Markup</th>\n",
       "      <th>Ranking Facebook</th>\n",
       "      <th>Unique Facebook Users</th>\n",
       "    </tr>\n",
       "    <tr>\n",
       "      <th>Domain</th>\n",
       "      <th></th>\n",
       "      <th></th>\n",
       "      <th></th>\n",
       "      <th></th>\n",
       "    </tr>\n",
       "  </thead>\n",
       "  <tbody>\n",
       "    <tr>\n",
       "      <th>youtube.com</th>\n",
       "      <td>1186</td>\n",
       "      <td>1</td>\n",
       "      <td>1</td>\n",
       "      <td>183800000</td>\n",
       "    </tr>\n",
       "    <tr>\n",
       "      <th>gofundme.com</th>\n",
       "      <td>669</td>\n",
       "      <td>6</td>\n",
       "      <td>2</td>\n",
       "      <td>132000000</td>\n",
       "    </tr>\n",
       "    <tr>\n",
       "      <th>amazon.com</th>\n",
       "      <td>815</td>\n",
       "      <td>2</td>\n",
       "      <td>3</td>\n",
       "      <td>131700000</td>\n",
       "    </tr>\n",
       "    <tr>\n",
       "      <th>media1.tenor.co</th>\n",
       "      <td>679</td>\n",
       "      <td>5</td>\n",
       "      <td>4</td>\n",
       "      <td>124700000</td>\n",
       "    </tr>\n",
       "    <tr>\n",
       "      <th>twitter.com</th>\n",
       "      <td>783</td>\n",
       "      <td>3</td>\n",
       "      <td>5</td>\n",
       "      <td>118800000</td>\n",
       "    </tr>\n",
       "    <tr>\n",
       "      <th>unicef.org</th>\n",
       "      <td>570</td>\n",
       "      <td>11</td>\n",
       "      <td>6</td>\n",
       "      <td>111100000</td>\n",
       "    </tr>\n",
       "    <tr>\n",
       "      <th>linktr.ee</th>\n",
       "      <td>388</td>\n",
       "      <td>39</td>\n",
       "      <td>7</td>\n",
       "      <td>102900000</td>\n",
       "    </tr>\n",
       "    <tr>\n",
       "      <th>tiktok.com</th>\n",
       "      <td>445</td>\n",
       "      <td>30</td>\n",
       "      <td>8</td>\n",
       "      <td>99400000</td>\n",
       "    </tr>\n",
       "    <tr>\n",
       "      <th>abcnews.go.com</th>\n",
       "      <td>527</td>\n",
       "      <td>13</td>\n",
       "      <td>9</td>\n",
       "      <td>98200000</td>\n",
       "    </tr>\n",
       "    <tr>\n",
       "      <th>cdc.gov</th>\n",
       "      <td>392</td>\n",
       "      <td>37</td>\n",
       "      <td>10</td>\n",
       "      <td>97800000</td>\n",
       "    </tr>\n",
       "    <tr>\n",
       "      <th>playeralumniresources.com</th>\n",
       "      <td>510</td>\n",
       "      <td>14</td>\n",
       "      <td>11</td>\n",
       "      <td>97200000</td>\n",
       "    </tr>\n",
       "    <tr>\n",
       "      <th>open.spotify.com</th>\n",
       "      <td>490</td>\n",
       "      <td>18</td>\n",
       "      <td>12</td>\n",
       "      <td>91900000</td>\n",
       "    </tr>\n",
       "    <tr>\n",
       "      <th>dailymail.co.uk</th>\n",
       "      <td>482</td>\n",
       "      <td>19</td>\n",
       "      <td>13</td>\n",
       "      <td>89600000</td>\n",
       "    </tr>\n",
       "    <tr>\n",
       "      <th>nypost.com</th>\n",
       "      <td>415</td>\n",
       "      <td>33</td>\n",
       "      <td>14</td>\n",
       "      <td>86100000</td>\n",
       "    </tr>\n",
       "    <tr>\n",
       "      <th>ranker.com</th>\n",
       "      <td>490</td>\n",
       "      <td>17</td>\n",
       "      <td>15</td>\n",
       "      <td>85600000</td>\n",
       "    </tr>\n",
       "    <tr>\n",
       "      <th>nbcnews.com</th>\n",
       "      <td>660</td>\n",
       "      <td>7</td>\n",
       "      <td>16</td>\n",
       "      <td>83600000</td>\n",
       "    </tr>\n",
       "    <tr>\n",
       "      <th>eventbrite.com</th>\n",
       "      <td>447</td>\n",
       "      <td>26</td>\n",
       "      <td>17</td>\n",
       "      <td>83400000</td>\n",
       "    </tr>\n",
       "    <tr>\n",
       "      <th>cnn.com</th>\n",
       "      <td>658</td>\n",
       "      <td>8</td>\n",
       "      <td>18</td>\n",
       "      <td>82800000</td>\n",
       "    </tr>\n",
       "    <tr>\n",
       "      <th>paypal.com</th>\n",
       "      <td>130</td>\n",
       "      <td>189</td>\n",
       "      <td>19</td>\n",
       "      <td>81300000</td>\n",
       "    </tr>\n",
       "    <tr>\n",
       "      <th>etsy.com</th>\n",
       "      <td>463</td>\n",
       "      <td>25</td>\n",
       "      <td>20</td>\n",
       "      <td>80900000</td>\n",
       "    </tr>\n",
       "  </tbody>\n",
       "</table>\n",
       "</div>"
      ],
      "text/plain": [
       "                           Unique Citizen Browser Users  Ranking Markup  \\\n",
       "Domain                                                                    \n",
       "youtube.com                                        1186               1   \n",
       "gofundme.com                                        669               6   \n",
       "amazon.com                                          815               2   \n",
       "media1.tenor.co                                     679               5   \n",
       "twitter.com                                         783               3   \n",
       "unicef.org                                          570              11   \n",
       "linktr.ee                                           388              39   \n",
       "tiktok.com                                          445              30   \n",
       "abcnews.go.com                                      527              13   \n",
       "cdc.gov                                             392              37   \n",
       "playeralumniresources.com                           510              14   \n",
       "open.spotify.com                                    490              18   \n",
       "dailymail.co.uk                                     482              19   \n",
       "nypost.com                                          415              33   \n",
       "ranker.com                                          490              17   \n",
       "nbcnews.com                                         660               7   \n",
       "eventbrite.com                                      447              26   \n",
       "cnn.com                                             658               8   \n",
       "paypal.com                                          130             189   \n",
       "etsy.com                                            463              25   \n",
       "\n",
       "                           Ranking Facebook  Unique Facebook Users  \n",
       "Domain                                                              \n",
       "youtube.com                               1              183800000  \n",
       "gofundme.com                              2              132000000  \n",
       "amazon.com                                3              131700000  \n",
       "media1.tenor.co                           4              124700000  \n",
       "twitter.com                               5              118800000  \n",
       "unicef.org                                6              111100000  \n",
       "linktr.ee                                 7              102900000  \n",
       "tiktok.com                                8               99400000  \n",
       "abcnews.go.com                            9               98200000  \n",
       "cdc.gov                                  10               97800000  \n",
       "playeralumniresources.com                11               97200000  \n",
       "open.spotify.com                         12               91900000  \n",
       "dailymail.co.uk                          13               89600000  \n",
       "nypost.com                               14               86100000  \n",
       "ranker.com                               15               85600000  \n",
       "nbcnews.com                              16               83600000  \n",
       "eventbrite.com                           17               83400000  \n",
       "cnn.com                                  18               82800000  \n",
       "paypal.com                               19               81300000  \n",
       "etsy.com                                 20               80900000  "
      ]
     },
     "execution_count": 4,
     "metadata": {},
     "output_type": "execute_result"
    }
   ],
   "source": [
    "fbcb = data.joined_domains()\n",
    "print(fbcb.info())\n",
    "fbcb.index.names = ['Domain']\n",
    "fbcb_clean = (fbcb\n",
    "     .drop(columns=['Unnamed: 0'], errors='ignore')\n",
    "     .rename(columns={\n",
    "         \"unique_users_cb\": \"Unique Citizen Browser Users\",\n",
    "         \"rank_cb\": \"Ranking Markup\",\n",
    "         \"rank_fb\": \"Ranking Facebook\",\n",
    "         \"unique_users_fb\": \"Unique Facebook Users\",\n",
    "     })\n",
    "     .head(20))\n",
    "dfi.export(fbcb_clean, 'images/fig4.png')\n",
    "fbcb_clean"
   ]
  },
  {
   "cell_type": "code",
   "execution_count": 5,
   "id": "4ef4564e",
   "metadata": {},
   "outputs": [],
   "source": [
    "fbcb_clean.to_clipboard()"
   ]
  },
  {
   "cell_type": "code",
   "execution_count": 6,
   "id": "87b9bdf6",
   "metadata": {},
   "outputs": [
    {
     "data": {
      "text/html": [
       "<div>\n",
       "<style scoped>\n",
       "    .dataframe tbody tr th:only-of-type {\n",
       "        vertical-align: middle;\n",
       "    }\n",
       "\n",
       "    .dataframe tbody tr th {\n",
       "        vertical-align: top;\n",
       "    }\n",
       "\n",
       "    .dataframe thead th {\n",
       "        text-align: right;\n",
       "    }\n",
       "</style>\n",
       "<table border=\"1\" class=\"dataframe\">\n",
       "  <thead>\n",
       "    <tr style=\"text-align: right;\">\n",
       "      <th></th>\n",
       "      <th>Unnamed: 0</th>\n",
       "      <th>unique_users_cb</th>\n",
       "      <th>rank_cb</th>\n",
       "      <th>rank_fb</th>\n",
       "      <th>unique_users_fb</th>\n",
       "    </tr>\n",
       "    <tr>\n",
       "      <th>url_domain</th>\n",
       "      <th></th>\n",
       "      <th></th>\n",
       "      <th></th>\n",
       "      <th></th>\n",
       "      <th></th>\n",
       "    </tr>\n",
       "  </thead>\n",
       "  <tbody>\n",
       "    <tr>\n",
       "      <th>youtube.com</th>\n",
       "      <td>0</td>\n",
       "      <td>1186</td>\n",
       "      <td>1</td>\n",
       "      <td>1.0</td>\n",
       "      <td>183800000.0</td>\n",
       "    </tr>\n",
       "    <tr>\n",
       "      <th>amazon.com</th>\n",
       "      <td>1</td>\n",
       "      <td>815</td>\n",
       "      <td>2</td>\n",
       "      <td>3.0</td>\n",
       "      <td>131700000.0</td>\n",
       "    </tr>\n",
       "    <tr>\n",
       "      <th>twitter.com</th>\n",
       "      <td>2</td>\n",
       "      <td>783</td>\n",
       "      <td>3</td>\n",
       "      <td>5.0</td>\n",
       "      <td>118800000.0</td>\n",
       "    </tr>\n",
       "    <tr>\n",
       "      <th>npr.org</th>\n",
       "      <td>3</td>\n",
       "      <td>694</td>\n",
       "      <td>4</td>\n",
       "      <td>NaN</td>\n",
       "      <td>NaN</td>\n",
       "    </tr>\n",
       "    <tr>\n",
       "      <th>media1.tenor.co</th>\n",
       "      <td>4</td>\n",
       "      <td>679</td>\n",
       "      <td>5</td>\n",
       "      <td>4.0</td>\n",
       "      <td>124700000.0</td>\n",
       "    </tr>\n",
       "    <tr>\n",
       "      <th>gofundme.com</th>\n",
       "      <td>5</td>\n",
       "      <td>669</td>\n",
       "      <td>6</td>\n",
       "      <td>2.0</td>\n",
       "      <td>132000000.0</td>\n",
       "    </tr>\n",
       "    <tr>\n",
       "      <th>nbcnews.com</th>\n",
       "      <td>6</td>\n",
       "      <td>660</td>\n",
       "      <td>7</td>\n",
       "      <td>16.0</td>\n",
       "      <td>83600000.0</td>\n",
       "    </tr>\n",
       "    <tr>\n",
       "      <th>cnn.com</th>\n",
       "      <td>7</td>\n",
       "      <td>658</td>\n",
       "      <td>8</td>\n",
       "      <td>18.0</td>\n",
       "      <td>82800000.0</td>\n",
       "    </tr>\n",
       "    <tr>\n",
       "      <th>nytimes.com</th>\n",
       "      <td>8</td>\n",
       "      <td>628</td>\n",
       "      <td>9</td>\n",
       "      <td>NaN</td>\n",
       "      <td>NaN</td>\n",
       "    </tr>\n",
       "    <tr>\n",
       "      <th>washingtonpost.com</th>\n",
       "      <td>9</td>\n",
       "      <td>616</td>\n",
       "      <td>10</td>\n",
       "      <td>NaN</td>\n",
       "      <td>NaN</td>\n",
       "    </tr>\n",
       "    <tr>\n",
       "      <th>unicef.org</th>\n",
       "      <td>10</td>\n",
       "      <td>570</td>\n",
       "      <td>11</td>\n",
       "      <td>6.0</td>\n",
       "      <td>111100000.0</td>\n",
       "    </tr>\n",
       "    <tr>\n",
       "      <th>usatoday.com</th>\n",
       "      <td>11</td>\n",
       "      <td>562</td>\n",
       "      <td>12</td>\n",
       "      <td>NaN</td>\n",
       "      <td>NaN</td>\n",
       "    </tr>\n",
       "    <tr>\n",
       "      <th>abcnews.go.com</th>\n",
       "      <td>12</td>\n",
       "      <td>527</td>\n",
       "      <td>13</td>\n",
       "      <td>9.0</td>\n",
       "      <td>98200000.0</td>\n",
       "    </tr>\n",
       "    <tr>\n",
       "      <th>playeralumniresources.com</th>\n",
       "      <td>13</td>\n",
       "      <td>510</td>\n",
       "      <td>14</td>\n",
       "      <td>11.0</td>\n",
       "      <td>97200000.0</td>\n",
       "    </tr>\n",
       "    <tr>\n",
       "      <th>m.tiktok.com</th>\n",
       "      <td>14</td>\n",
       "      <td>508</td>\n",
       "      <td>15</td>\n",
       "      <td>NaN</td>\n",
       "      <td>NaN</td>\n",
       "    </tr>\n",
       "    <tr>\n",
       "      <th>bbc.com</th>\n",
       "      <td>15</td>\n",
       "      <td>500</td>\n",
       "      <td>16</td>\n",
       "      <td>NaN</td>\n",
       "      <td>NaN</td>\n",
       "    </tr>\n",
       "    <tr>\n",
       "      <th>ranker.com</th>\n",
       "      <td>16</td>\n",
       "      <td>490</td>\n",
       "      <td>17</td>\n",
       "      <td>15.0</td>\n",
       "      <td>85600000.0</td>\n",
       "    </tr>\n",
       "    <tr>\n",
       "      <th>open.spotify.com</th>\n",
       "      <td>17</td>\n",
       "      <td>490</td>\n",
       "      <td>18</td>\n",
       "      <td>12.0</td>\n",
       "      <td>91900000.0</td>\n",
       "    </tr>\n",
       "    <tr>\n",
       "      <th>dailymail.co.uk</th>\n",
       "      <td>18</td>\n",
       "      <td>482</td>\n",
       "      <td>19</td>\n",
       "      <td>13.0</td>\n",
       "      <td>89600000.0</td>\n",
       "    </tr>\n",
       "    <tr>\n",
       "      <th>theguardian.com</th>\n",
       "      <td>19</td>\n",
       "      <td>477</td>\n",
       "      <td>20</td>\n",
       "      <td>NaN</td>\n",
       "      <td>NaN</td>\n",
       "    </tr>\n",
       "  </tbody>\n",
       "</table>\n",
       "</div>"
      ],
      "text/plain": [
       "                           Unnamed: 0  unique_users_cb  rank_cb  rank_fb  \\\n",
       "url_domain                                                                 \n",
       "youtube.com                         0             1186        1      1.0   \n",
       "amazon.com                          1              815        2      3.0   \n",
       "twitter.com                         2              783        3      5.0   \n",
       "npr.org                             3              694        4      NaN   \n",
       "media1.tenor.co                     4              679        5      4.0   \n",
       "gofundme.com                        5              669        6      2.0   \n",
       "nbcnews.com                         6              660        7     16.0   \n",
       "cnn.com                             7              658        8     18.0   \n",
       "nytimes.com                         8              628        9      NaN   \n",
       "washingtonpost.com                  9              616       10      NaN   \n",
       "unicef.org                         10              570       11      6.0   \n",
       "usatoday.com                       11              562       12      NaN   \n",
       "abcnews.go.com                     12              527       13      9.0   \n",
       "playeralumniresources.com          13              510       14     11.0   \n",
       "m.tiktok.com                       14              508       15      NaN   \n",
       "bbc.com                            15              500       16      NaN   \n",
       "ranker.com                         16              490       17     15.0   \n",
       "open.spotify.com                   17              490       18     12.0   \n",
       "dailymail.co.uk                    18              482       19     13.0   \n",
       "theguardian.com                    19              477       20      NaN   \n",
       "\n",
       "                           unique_users_fb  \n",
       "url_domain                                  \n",
       "youtube.com                    183800000.0  \n",
       "amazon.com                     131700000.0  \n",
       "twitter.com                    118800000.0  \n",
       "npr.org                                NaN  \n",
       "media1.tenor.co                124700000.0  \n",
       "gofundme.com                   132000000.0  \n",
       "nbcnews.com                     83600000.0  \n",
       "cnn.com                         82800000.0  \n",
       "nytimes.com                            NaN  \n",
       "washingtonpost.com                     NaN  \n",
       "unicef.org                     111100000.0  \n",
       "usatoday.com                           NaN  \n",
       "abcnews.go.com                  98200000.0  \n",
       "playeralumniresources.com       97200000.0  \n",
       "m.tiktok.com                           NaN  \n",
       "bbc.com                                NaN  \n",
       "ranker.com                      85600000.0  \n",
       "open.spotify.com                91900000.0  \n",
       "dailymail.co.uk                 89600000.0  \n",
       "theguardian.com                        NaN  "
      ]
     },
     "execution_count": 6,
     "metadata": {},
     "output_type": "execute_result"
    }
   ],
   "source": [
    "data.joined_domains(how='outer').sort_values('rank_cb').head(20)"
   ]
  },
  {
   "cell_type": "markdown",
   "id": "7c8d93ed",
   "metadata": {},
   "source": [
    "## Domain Correlation\n",
    "\n",
    "Let's look at the raw correlation between the domain rankings and the view counts. We assume that the p-values for the domain correlation is biased because the null hypothesis doesn't properlly consider our full ranking and only sees the partial, intesected, ranking with respect to the facebook report.\n",
    "\n",
    "The domain correlation is done by taking the \"ranking facebook\" and \"ranking markup\" columns from the above dataframe and feeding them into scipy.stats.kendalltau.\n",
    "\n",
    "The views correlation is done by taking the \"Unique Users Markup\" and \"Unique Users Facebook\" and feeding them into scipy.stats.spearmanr."
   ]
  },
  {
   "cell_type": "code",
   "execution_count": 7,
   "id": "7e896d39",
   "metadata": {},
   "outputs": [
    {
     "name": "stdout",
     "output_type": "stream",
     "text": [
      "Domain Correlation: KendalltauResult(correlation=0.4105263157894737, pvalue=0.011101359934968412)\n",
      "Views Correlation: SpearmanrResult(correlation=0.5678827028149745, pvalue=0.00900226017644768)\n"
     ]
    }
   ],
   "source": [
    "print(\"Domain Correlation:\", data.correlation_domains())\n",
    "print(\"Views Correlation:\", data.correlation_views())"
   ]
  },
  {
   "cell_type": "markdown",
   "id": "8d5463af",
   "metadata": {},
   "source": [
    "### P-Value Simulation\n",
    "\n",
    "In order to calculate a more reasonable p-value, we sample from randomly generated full rankings of our domains and perform the same Kendall Tau correlation as above. The Markup's full ranking is shuffled, intersected with the Facebook ranking, and the correlation is performed (and outputted by the `random_sampler`). We are then able to calculate the one-sided p-value by seeing how many samples had a correlation lower than the correlation we calculate for our list."
   ]
  },
  {
   "cell_type": "code",
   "execution_count": 8,
   "id": "57d114f6",
   "metadata": {},
   "outputs": [
    {
     "data": {
      "application/vnd.jupyter.widget-view+json": {
       "model_id": "5ee8ebe178b34271836118285dbeee3b",
       "version_major": 2,
       "version_minor": 0
      },
      "text/plain": [
       "  0%|          | 0/500000 [00:00<?, ?it/s]"
      ]
     },
     "metadata": {},
     "output_type": "display_data"
    }
   ],
   "source": [
    "corr_random = []\n",
    "corr, p = data.correlation_domains()\n",
    "\n",
    "random_sampler = data.correlation_domains_random()\n",
    "for _ in tqdm(range(500_000)):\n",
    "    c, _ = next(random_sampler)\n",
    "    corr_random.append(c)"
   ]
  },
  {
   "cell_type": "code",
   "execution_count": 9,
   "id": "1af7c421",
   "metadata": {},
   "outputs": [
    {
     "name": "stdout",
     "output_type": "stream",
     "text": [
      "domains corr: 0.4105263157894737\n",
      "approx p: 0.011101359934968412\n",
      "exact one-sided p: 0.005418\n"
     ]
    }
   ],
   "source": [
    "print(\"domains corr:\", corr)\n",
    "print(\"approx p:\", p)\n",
    "print(\"exact one-sided p:\", sum(1 for c in corr_random if c >= corr) / len(corr_random))"
   ]
  },
  {
   "cell_type": "code",
   "execution_count": 10,
   "id": "6b3edb9d",
   "metadata": {},
   "outputs": [
    {
     "data": {
      "image/png": "[encoded data removed]",
      "text/plain": [
       "<Figure size 432x288 with 1 Axes>"
      ]
     },
     "metadata": {
      "needs_background": "light"
     },
     "output_type": "display_data"
    }
   ],
   "source": [
    "plt.figure()\n",
    "sns.histplot(corr_random, stat='probability')\n",
    "plt.axvline(corr)\n",
    "plt.xlabel('Kendall Tau Correlation')\n",
    "plt.title('Correlation of full ranking vs randomly generated lists')\n",
    "\n",
    "plt.tight_layout()\n",
    "plt.savefig(\"images/fig2.png\")\n",
    "plt.savefig(\"images/fig2.svg\")\n",
    "plt.show()"
   ]
  },
  {
   "cell_type": "markdown",
   "id": "5f21632e",
   "metadata": {},
   "source": [
    "For posterity, we also calculate the RBO coefficient to see how much the intersection of the lists effects the results"
   ]
  },
  {
   "cell_type": "code",
   "execution_count": 11,
   "id": "0372662f",
   "metadata": {},
   "outputs": [
    {
     "data": {
      "text/plain": [
       "0.6981285411456141"
      ]
     },
     "execution_count": 11,
     "metadata": {},
     "output_type": "execute_result"
    }
   ],
   "source": [
    "data.correlation_domains(method='rbo')"
   ]
  },
  {
   "cell_type": "markdown",
   "id": "1f3d84cd",
   "metadata": {},
   "source": [
    "### Data Visualization\n",
    "\n",
    "We now dive a bit into the full dataset. Here, `df` is the full, non-intersected dataset. Note that all the `*_fb` fields are None except for those 20 domains from the facebook report."
   ]
  },
  {
   "cell_type": "code",
   "execution_count": 12,
   "id": "91cd04c4",
   "metadata": {},
   "outputs": [
    {
     "data": {
      "text/html": [
       "<div>\n",
       "<style scoped>\n",
       "    .dataframe tbody tr th:only-of-type {\n",
       "        vertical-align: middle;\n",
       "    }\n",
       "\n",
       "    .dataframe tbody tr th {\n",
       "        vertical-align: top;\n",
       "    }\n",
       "\n",
       "    .dataframe thead th {\n",
       "        text-align: right;\n",
       "    }\n",
       "</style>\n",
       "<table border=\"1\" class=\"dataframe\">\n",
       "  <thead>\n",
       "    <tr style=\"text-align: right;\">\n",
       "      <th></th>\n",
       "      <th>Unnamed: 0</th>\n",
       "      <th>unique_users_cb</th>\n",
       "      <th>rank_cb</th>\n",
       "      <th>rank_fb</th>\n",
       "      <th>unique_users_fb</th>\n",
       "    </tr>\n",
       "    <tr>\n",
       "      <th>url_domain</th>\n",
       "      <th></th>\n",
       "      <th></th>\n",
       "      <th></th>\n",
       "      <th></th>\n",
       "      <th></th>\n",
       "    </tr>\n",
       "  </thead>\n",
       "  <tbody>\n",
       "    <tr>\n",
       "      <th>youtube.com</th>\n",
       "      <td>0</td>\n",
       "      <td>1186</td>\n",
       "      <td>1</td>\n",
       "      <td>1.0</td>\n",
       "      <td>183800000.0</td>\n",
       "    </tr>\n",
       "    <tr>\n",
       "      <th>gofundme.com</th>\n",
       "      <td>5</td>\n",
       "      <td>669</td>\n",
       "      <td>6</td>\n",
       "      <td>2.0</td>\n",
       "      <td>132000000.0</td>\n",
       "    </tr>\n",
       "    <tr>\n",
       "      <th>amazon.com</th>\n",
       "      <td>1</td>\n",
       "      <td>815</td>\n",
       "      <td>2</td>\n",
       "      <td>3.0</td>\n",
       "      <td>131700000.0</td>\n",
       "    </tr>\n",
       "    <tr>\n",
       "      <th>media1.tenor.co</th>\n",
       "      <td>4</td>\n",
       "      <td>679</td>\n",
       "      <td>5</td>\n",
       "      <td>4.0</td>\n",
       "      <td>124700000.0</td>\n",
       "    </tr>\n",
       "    <tr>\n",
       "      <th>twitter.com</th>\n",
       "      <td>2</td>\n",
       "      <td>783</td>\n",
       "      <td>3</td>\n",
       "      <td>5.0</td>\n",
       "      <td>118800000.0</td>\n",
       "    </tr>\n",
       "  </tbody>\n",
       "</table>\n",
       "</div>"
      ],
      "text/plain": [
       "                 Unnamed: 0  unique_users_cb  rank_cb  rank_fb  \\\n",
       "url_domain                                                       \n",
       "youtube.com               0             1186        1      1.0   \n",
       "gofundme.com              5              669        6      2.0   \n",
       "amazon.com                1              815        2      3.0   \n",
       "media1.tenor.co           4              679        5      4.0   \n",
       "twitter.com               2              783        3      5.0   \n",
       "\n",
       "                 unique_users_fb  \n",
       "url_domain                        \n",
       "youtube.com          183800000.0  \n",
       "gofundme.com         132000000.0  \n",
       "amazon.com           131700000.0  \n",
       "media1.tenor.co      124700000.0  \n",
       "twitter.com          118800000.0  "
      ]
     },
     "execution_count": 12,
     "metadata": {},
     "output_type": "execute_result"
    }
   ],
   "source": [
    "df = data.joined_domains(how='outer')\n",
    "df.describe()\n",
    "df.head()"
   ]
  },
  {
   "cell_type": "code",
   "execution_count": 13,
   "id": "9e148514",
   "metadata": {},
   "outputs": [
    {
     "data": {
      "image/png": "[encoded data removed]",
      "text/plain": [
       "<Figure size 432x288 with 1 Axes>"
      ]
     },
     "metadata": {
      "needs_background": "light"
     },
     "output_type": "display_data"
    }
   ],
   "source": [
    "plt.figure()\n",
    "\n",
    "ax = sns.barplot(data=df.head(87), x='rank_cb', y='unique_users_cb')\n",
    "save_tabular(\"cb_top_87\", df.head(87)[['rank_cb', 'unique_users_cb']])\n",
    "\n",
    "ax.set_yscale('log')\n",
    "ax.set_ylabel(\"Number of unique users\")\n",
    "ax.set_xlabel(\"Domain\")\n",
    "ax.set_title(\"Unique user counts for top 87 domains\")\n",
    "ax.set_xticks([])\n",
    "ax.yaxis.set_minor_formatter(FormatStrFormatter(\"%.0f\"))\n",
    "ax.yaxis.set_major_formatter(FormatStrFormatter(\"%.0f\"))\n",
    "plt.tick_params(axis='y', which='minor')\n",
    "\n",
    "plt.tight_layout()\n",
    "plt.savefig(\"images/fig1a.png\")\n",
    "plt.savefig(\"images/fig1a.svg\")\n",
    "plt.show()"
   ]
  },
  {
   "cell_type": "code",
   "execution_count": 14,
   "id": "91f16699",
   "metadata": {
    "scrolled": false
   },
   "outputs": [
    {
     "data": {
      "image/png": "[encoded data removed]",
      "text/plain": [
       "<Figure size 432x288 with 1 Axes>"
      ]
     },
     "metadata": {
      "needs_background": "light"
     },
     "output_type": "display_data"
    }
   ],
   "source": [
    "plt.figure()\n",
    "\n",
    "ax = sns.barplot(data=fbcb.sort_values('rank_fb'), x='rank_fb', y='unique_users_fb')\n",
    "save_tabular(\"fb_top_20\", \n",
    "             fbcb.sort_values('rank_fb')[['rank_fb', 'unique_users_fb']])\n",
    "\n",
    "# ax.set_yscale('log')\n",
    "ax.set_ylabel(\"Number of unique users\")\n",
    "ax.set_xlabel(\"Domain\")\n",
    "ax.set_title(\"Facebook user counts for top 20 domains\")\n",
    "ax.set_xticks([])\n",
    "\n",
    "ax.yaxis.set_minor_formatter(FormatStrFormatter(\"%.0f\"))\n",
    "ax.yaxis.set_major_formatter(FormatStrFormatter(\"%.0f\"))\n",
    "plt.tick_params(axis='y', which='minor')\n",
    "\n",
    "plt.tight_layout()\n",
    "plt.savefig(\"images/fig1b.png\")\n",
    "plt.savefig(\"images/fig1b.svg\")\n",
    "plt.show()"
   ]
  },
  {
   "cell_type": "markdown",
   "id": "7aa12b52",
   "metadata": {},
   "source": [
    "### RBO Verification\n",
    "\n",
    "For verification that the intersection of the two ranked lists isn't an overly biasing effect, we quickly calculate the [RBO](https://dl.acm.org/doi/abs/10.1145/1852102.1852106) of the two sets to make sure it is consistent with our results abobve"
   ]
  },
  {
   "cell_type": "code",
   "execution_count": 15,
   "id": "66efdfe3",
   "metadata": {},
   "outputs": [
    {
     "name": "stdout",
     "output_type": "stream",
     "text": [
      "RBO Extrapolated (Eq. (32) from paper): 0.6979801453080263\n",
      "RBO Default: 0.6267565872809681\n"
     ]
    },
    {
     "data": {
      "image/png": "[encoded data removed]",
      "text/plain": [
       "<Figure size 432x288 with 1 Axes>"
      ]
     },
     "metadata": {
      "needs_background": "light"
     },
     "output_type": "display_data"
    }
   ],
   "source": [
    "cb = df.sort_values('rank_cb').index.to_list()\n",
    "fb = df.query('rank_fb > 0').sort_values('rank_fb').index.to_list()\n",
    "corr, _ = data.correlation_domains()\n",
    "\n",
    "r = rbo.RankingSimilarity(cb, fb)\n",
    "print(\"RBO Extrapolated (Eq. (32) from paper):\", r.rbo_ext())\n",
    "print(\"RBO Default:\", r.rbo())\n",
    "\n",
    "P = np.arange(0.05, 1, 0.025)\n",
    "Y = [r.rbo(p=p) for p in P]\n",
    "Y_ext = [r.rbo_ext(p=p) for p in P]\n",
    "\n",
    "f = plt.figure()\n",
    "plt.plot(P, Y, label='RBO')\n",
    "plt.plot(P, Y_ext, label='RBO Ext')\n",
    "# note: rbo and kendall aren't directly comparable, but it's a good smell test\n",
    "plt.axhline(y=corr, label='Kendall Tau')\n",
    "plt.legend()\n",
    "\n",
    "plt.xlabel(\"p (top-weightness)\")\n",
    "plt.ylabel(\"RBO Coef\")\n",
    "plt.show()"
   ]
  },
  {
   "cell_type": "markdown",
   "id": "05958229",
   "metadata": {},
   "source": [
    "## Views Correlation\n",
    "\n",
    "Now just a quick dive into the correlation between the viewership numbers from the facebook report."
   ]
  },
  {
   "cell_type": "code",
   "execution_count": 16,
   "id": "5546bcea",
   "metadata": {},
   "outputs": [
    {
     "data": {
      "text/plain": [
       "SpearmanrResult(correlation=0.5678827028149745, pvalue=0.00900226017644768)"
      ]
     },
     "execution_count": 16,
     "metadata": {},
     "output_type": "execute_result"
    }
   ],
   "source": [
    "data.correlation_views()"
   ]
  },
  {
   "cell_type": "code",
   "execution_count": 17,
   "id": "5f08d77b",
   "metadata": {},
   "outputs": [
    {
     "data": {
      "image/png": "[encoded data removed]",
      "text/plain": [
       "<Figure size 432x288 with 1 Axes>"
      ]
     },
     "metadata": {
      "needs_background": "light"
     },
     "output_type": "display_data"
    }
   ],
   "source": [
    "plt.figure()\n",
    "g = sns.regplot(data=fbcb, \n",
    "                x='unique_users_cb', \n",
    "                y='unique_users_fb',\n",
    "                n_boot=10_000)\n",
    "g.set_ylabel('Facebook Unique Users')\n",
    "g.set_xlabel('Citizen Browser Unique Users')\n",
    "\n",
    "g.yaxis.set_minor_formatter(FormatStrFormatter(\"%.0f\"))\n",
    "g.yaxis.set_major_formatter(FormatStrFormatter(\"%.0f\"))\n",
    "plt.tick_params(axis='y', which='minor')\n",
    "\n",
    "plt.tight_layout()\n",
    "plt.savefig(\"images/fig3.png\")\n",
    "plt.savefig(\"images/fig3.svg\")\n",
    "plt.show()"
   ]
  },
  {
   "cell_type": "code",
   "execution_count": 18,
   "id": "07fe3168",
   "metadata": {},
   "outputs": [
    {
     "name": "stdout",
     "output_type": "stream",
     "text": [
      "slope: [96742.13084853]\n",
      "int: [48969243.83136585]\n"
     ]
    }
   ],
   "source": [
    "a = np.vstack([\n",
    "    fbcb.unique_users_cb.to_numpy(),\n",
    "    np.ones(20)\n",
    "]).T\n",
    "b = fbcb.unique_users_fb.to_numpy()[..., np.newaxis]\n",
    "m, b = np.linalg.lstsq(a, b, rcond=-1)[0]\n",
    "print(\"slope:\", m)\n",
    "print(\"int:\", b)"
   ]
  },
  {
   "cell_type": "markdown",
   "id": "52c82e2a",
   "metadata": {},
   "source": [
    "# Domains with high viewership users"
   ]
  },
  {
   "cell_type": "code",
   "execution_count": 19,
   "id": "5a6f7a47",
   "metadata": {},
   "outputs": [
    {
     "name": "stdout",
     "output_type": "stream",
     "text": [
      "Found query cache: data/query_cache/70b543221cd876c3646602d3202569dc.csv\n"
     ]
    }
   ],
   "source": [
    "df_hfu = data.high_frequency_users()"
   ]
  },
  {
   "cell_type": "code",
   "execution_count": 20,
   "id": "f82f3de5",
   "metadata": {},
   "outputs": [
    {
     "data": {
      "text/html": [
       "<div>\n",
       "<style scoped>\n",
       "    .dataframe tbody tr th:only-of-type {\n",
       "        vertical-align: middle;\n",
       "    }\n",
       "\n",
       "    .dataframe tbody tr th {\n",
       "        vertical-align: top;\n",
       "    }\n",
       "\n",
       "    .dataframe thead th {\n",
       "        text-align: right;\n",
       "    }\n",
       "</style>\n",
       "<table border=\"1\" class=\"dataframe\">\n",
       "  <thead>\n",
       "    <tr style=\"text-align: right;\">\n",
       "      <th></th>\n",
       "      <th>Unnamed: 0</th>\n",
       "      <th>url_domain</th>\n",
       "      <th>user_id</th>\n",
       "      <th>n_views</th>\n",
       "    </tr>\n",
       "  </thead>\n",
       "  <tbody>\n",
       "    <tr>\n",
       "      <th>242017</th>\n",
       "      <td>242017</td>\n",
       "      <td>thetommydavidson.com</td>\n",
       "      <td>69eb4cb4db835263862f49e155bcf438</td>\n",
       "      <td>1</td>\n",
       "    </tr>\n",
       "    <tr>\n",
       "      <th>99142</th>\n",
       "      <td>99142</td>\n",
       "      <td>grobigred.com</td>\n",
       "      <td>c94c3898fbc1216f8a761c0503bbd179</td>\n",
       "      <td>2</td>\n",
       "    </tr>\n",
       "    <tr>\n",
       "      <th>161557</th>\n",
       "      <td>161557</td>\n",
       "      <td>nerdsandbeyond.com</td>\n",
       "      <td>0a09b8e525cd02443bdf2478a628c0a5</td>\n",
       "      <td>2</td>\n",
       "    </tr>\n",
       "    <tr>\n",
       "      <th>61024</th>\n",
       "      <td>61024</td>\n",
       "      <td>dcist.com</td>\n",
       "      <td>3f7230af5e495b3337468bd13dad5253</td>\n",
       "      <td>4</td>\n",
       "    </tr>\n",
       "    <tr>\n",
       "      <th>248172</th>\n",
       "      <td>248172</td>\n",
       "      <td>tools.cdc.gov</td>\n",
       "      <td>44e7bc9bdfd36dbf9f5e65318f5f8890</td>\n",
       "      <td>1</td>\n",
       "    </tr>\n",
       "    <tr>\n",
       "      <th>207488</th>\n",
       "      <td>207488</td>\n",
       "      <td>screencrush.com</td>\n",
       "      <td>69918f5940f0cd01ce98b9214aaa5d4d</td>\n",
       "      <td>8</td>\n",
       "    </tr>\n",
       "    <tr>\n",
       "      <th>238364</th>\n",
       "      <td>238364</td>\n",
       "      <td>themodernbreakup.com</td>\n",
       "      <td>94550c19d9e6196610876dcf42c0ce7c</td>\n",
       "      <td>2</td>\n",
       "    </tr>\n",
       "    <tr>\n",
       "      <th>150229</th>\n",
       "      <td>150229</td>\n",
       "      <td>momsmagicalmiles.com</td>\n",
       "      <td>24f57bb2e363be7c78723130eb7cb1b5</td>\n",
       "      <td>1</td>\n",
       "    </tr>\n",
       "    <tr>\n",
       "      <th>246495</th>\n",
       "      <td>246495</td>\n",
       "      <td>tipsto.live</td>\n",
       "      <td>ec41a6802a08db8bbf48b641ef7a904a</td>\n",
       "      <td>4</td>\n",
       "    </tr>\n",
       "    <tr>\n",
       "      <th>34812</th>\n",
       "      <td>34812</td>\n",
       "      <td>buckrail.com</td>\n",
       "      <td>d0569ec67baf1dcb19178133ccb2988b</td>\n",
       "      <td>1</td>\n",
       "    </tr>\n",
       "  </tbody>\n",
       "</table>\n",
       "</div>"
      ],
      "text/plain": [
       "        Unnamed: 0            url_domain                           user_id  \\\n",
       "242017      242017  thetommydavidson.com  69eb4cb4db835263862f49e155bcf438   \n",
       "99142        99142         grobigred.com  c94c3898fbc1216f8a761c0503bbd179   \n",
       "161557      161557    nerdsandbeyond.com  0a09b8e525cd02443bdf2478a628c0a5   \n",
       "61024        61024             dcist.com  3f7230af5e495b3337468bd13dad5253   \n",
       "248172      248172         tools.cdc.gov  44e7bc9bdfd36dbf9f5e65318f5f8890   \n",
       "207488      207488       screencrush.com  69918f5940f0cd01ce98b9214aaa5d4d   \n",
       "238364      238364  themodernbreakup.com  94550c19d9e6196610876dcf42c0ce7c   \n",
       "150229      150229  momsmagicalmiles.com  24f57bb2e363be7c78723130eb7cb1b5   \n",
       "246495      246495           tipsto.live  ec41a6802a08db8bbf48b641ef7a904a   \n",
       "34812        34812          buckrail.com  d0569ec67baf1dcb19178133ccb2988b   \n",
       "\n",
       "        n_views  \n",
       "242017        1  \n",
       "99142         2  \n",
       "161557        2  \n",
       "61024         4  \n",
       "248172        1  \n",
       "207488        8  \n",
       "238364        2  \n",
       "150229        1  \n",
       "246495        4  \n",
       "34812         1  "
      ]
     },
     "execution_count": 20,
     "metadata": {},
     "output_type": "execute_result"
    }
   ],
   "source": [
    "df_hfu.sample(n=10)"
   ]
  },
  {
   "cell_type": "code",
   "execution_count": 21,
   "id": "12cf22a2",
   "metadata": {},
   "outputs": [
    {
     "data": {
      "text/html": [
       "<div>\n",
       "<style scoped>\n",
       "    .dataframe tbody tr th:only-of-type {\n",
       "        vertical-align: middle;\n",
       "    }\n",
       "\n",
       "    .dataframe tbody tr th {\n",
       "        vertical-align: top;\n",
       "    }\n",
       "\n",
       "    .dataframe thead th {\n",
       "        text-align: right;\n",
       "    }\n",
       "</style>\n",
       "<table border=\"1\" class=\"dataframe\">\n",
       "  <thead>\n",
       "    <tr style=\"text-align: right;\">\n",
       "      <th></th>\n",
       "      <th>Unnamed: 0</th>\n",
       "      <th>n_views</th>\n",
       "    </tr>\n",
       "  </thead>\n",
       "  <tbody>\n",
       "    <tr>\n",
       "      <th>count</th>\n",
       "      <td>280978.000000</td>\n",
       "      <td>280978.000000</td>\n",
       "    </tr>\n",
       "    <tr>\n",
       "      <th>mean</th>\n",
       "      <td>140488.500000</td>\n",
       "      <td>3.934593</td>\n",
       "    </tr>\n",
       "    <tr>\n",
       "      <th>std</th>\n",
       "      <td>81111.506306</td>\n",
       "      <td>23.575464</td>\n",
       "    </tr>\n",
       "    <tr>\n",
       "      <th>min</th>\n",
       "      <td>0.000000</td>\n",
       "      <td>1.000000</td>\n",
       "    </tr>\n",
       "    <tr>\n",
       "      <th>25%</th>\n",
       "      <td>70244.250000</td>\n",
       "      <td>1.000000</td>\n",
       "    </tr>\n",
       "    <tr>\n",
       "      <th>50%</th>\n",
       "      <td>140488.500000</td>\n",
       "      <td>1.000000</td>\n",
       "    </tr>\n",
       "    <tr>\n",
       "      <th>75%</th>\n",
       "      <td>210732.750000</td>\n",
       "      <td>2.000000</td>\n",
       "    </tr>\n",
       "    <tr>\n",
       "      <th>max</th>\n",
       "      <td>280977.000000</td>\n",
       "      <td>3381.000000</td>\n",
       "    </tr>\n",
       "  </tbody>\n",
       "</table>\n",
       "</div>"
      ],
      "text/plain": [
       "          Unnamed: 0        n_views\n",
       "count  280978.000000  280978.000000\n",
       "mean   140488.500000       3.934593\n",
       "std     81111.506306      23.575464\n",
       "min         0.000000       1.000000\n",
       "25%     70244.250000       1.000000\n",
       "50%    140488.500000       1.000000\n",
       "75%    210732.750000       2.000000\n",
       "max    280977.000000    3381.000000"
      ]
     },
     "execution_count": 21,
     "metadata": {},
     "output_type": "execute_result"
    }
   ],
   "source": [
    "df_hfu.describe()"
   ]
  },
  {
   "cell_type": "markdown",
   "id": "119cd8ce",
   "metadata": {},
   "source": [
    "We group by url_domain and do some aggregate statistics. We define a \"High View User\" as someone who saw a domain more than 90 times in our sample period. This represents seeing the domain at least once per day."
   ]
  },
  {
   "cell_type": "code",
   "execution_count": 22,
   "id": "faa083d8",
   "metadata": {},
   "outputs": [
    {
     "data": {
      "text/html": [
       "<div>\n",
       "<style scoped>\n",
       "    .dataframe tbody tr th:only-of-type {\n",
       "        vertical-align: middle;\n",
       "    }\n",
       "\n",
       "    .dataframe tbody tr th {\n",
       "        vertical-align: top;\n",
       "    }\n",
       "\n",
       "    .dataframe thead th {\n",
       "        text-align: right;\n",
       "    }\n",
       "</style>\n",
       "<table border=\"1\" class=\"dataframe\">\n",
       "  <thead>\n",
       "    <tr style=\"text-align: right;\">\n",
       "      <th></th>\n",
       "      <th>n_high_viewers</th>\n",
       "      <th>n_users</th>\n",
       "      <th>frac_high_viewers</th>\n",
       "    </tr>\n",
       "  </thead>\n",
       "  <tbody>\n",
       "    <tr>\n",
       "      <th>count</th>\n",
       "      <td>1000.000000</td>\n",
       "      <td>1000.000000</td>\n",
       "      <td>286.000000</td>\n",
       "    </tr>\n",
       "    <tr>\n",
       "      <th>mean</th>\n",
       "      <td>1.391000</td>\n",
       "      <td>105.870000</td>\n",
       "      <td>0.020385</td>\n",
       "    </tr>\n",
       "    <tr>\n",
       "      <th>std</th>\n",
       "      <td>6.114369</td>\n",
       "      <td>109.190832</td>\n",
       "      <td>0.018653</td>\n",
       "    </tr>\n",
       "    <tr>\n",
       "      <th>min</th>\n",
       "      <td>0.000000</td>\n",
       "      <td>38.000000</td>\n",
       "      <td>0.000000</td>\n",
       "    </tr>\n",
       "    <tr>\n",
       "      <th>25%</th>\n",
       "      <td>0.000000</td>\n",
       "      <td>51.000000</td>\n",
       "      <td>0.009901</td>\n",
       "    </tr>\n",
       "    <tr>\n",
       "      <th>50%</th>\n",
       "      <td>1.000000</td>\n",
       "      <td>67.000000</td>\n",
       "      <td>0.015505</td>\n",
       "    </tr>\n",
       "    <tr>\n",
       "      <th>75%</th>\n",
       "      <td>1.000000</td>\n",
       "      <td>110.250000</td>\n",
       "      <td>0.023256</td>\n",
       "    </tr>\n",
       "    <tr>\n",
       "      <th>max</th>\n",
       "      <td>170.000000</td>\n",
       "      <td>1186.000000</td>\n",
       "      <td>0.143339</td>\n",
       "    </tr>\n",
       "  </tbody>\n",
       "</table>\n",
       "</div>"
      ],
      "text/plain": [
       "       n_high_viewers      n_users  frac_high_viewers\n",
       "count     1000.000000  1000.000000         286.000000\n",
       "mean         1.391000   105.870000           0.020385\n",
       "std          6.114369   109.190832           0.018653\n",
       "min          0.000000    38.000000           0.000000\n",
       "25%          0.000000    51.000000           0.009901\n",
       "50%          1.000000    67.000000           0.015505\n",
       "75%          1.000000   110.250000           0.023256\n",
       "max        170.000000  1186.000000           0.143339"
      ]
     },
     "execution_count": 22,
     "metadata": {},
     "output_type": "execute_result"
    }
   ],
   "source": [
    "dg = df_hfu.groupby('url_domain')\n",
    "domains = (\n",
    "    dg\n",
    "        .agg({\n",
    "            \"n_views\": lambda d: (d > 90).sum(),\n",
    "        })\n",
    "        .sort_values(\"n_views\", ascending=False)\n",
    "        .head(1000)\n",
    "        .rename(columns={\"n_views\": \"n_high_viewers\"})\n",
    "    .merge(\n",
    "        dg\n",
    "            .agg({\"n_views\": \"count\"})\n",
    "            .sort_values(\"n_views\", ascending=False)\n",
    "            .head(1000)\n",
    "            .rename(columns={'n_views': 'n_users'}),\n",
    "        right_index=True,\n",
    "        left_index=True,\n",
    "        how='outer',\n",
    "    )\n",
    ")\n",
    "domains['frac_high_viewers'] = domains.n_high_viewers / domains.n_users\n",
    "domains.describe()"
   ]
  },
  {
   "cell_type": "code",
   "execution_count": 23,
   "id": "4971e53b",
   "metadata": {},
   "outputs": [],
   "source": [
    "def get_domain_samples_raw(df, domains, field, N=25):\n",
    "    return (\n",
    "        domains\n",
    "            .sort_values(field, ascending=False)\n",
    "            .head(N)\n",
    "            .reset_index()\n",
    "            .merge(df, on='url_domain')\n",
    "    )\n",
    "\n",
    "def get_domain_samples(domains, field, N=25):\n",
    "    return domains.sort_values(field, ascending=False).head(N).reset_index()"
   ]
  },
  {
   "cell_type": "code",
   "execution_count": 24,
   "id": "a2069f03",
   "metadata": {},
   "outputs": [
    {
     "data": {
      "image/png": "[encoded data removed]",
      "text/plain": [
       "<Figure size 432x288 with 1 Axes>"
      ]
     },
     "metadata": {
      "needs_background": "light"
     },
     "output_type": "display_data"
    }
   ],
   "source": [
    "d = get_domain_samples_raw(df_hfu, domains, 'n_high_viewers')\n",
    "\n",
    "plt.figure()\n",
    "ax = sns.boxplot(data=d, x='url_domain', y='n_views')\n",
    "plt.xticks(rotation='vertical')\n",
    "ax.set_yscale('log')\n",
    "plt.xlabel('')\n",
    "plt.ylabel('Distribution of High View Users')\n",
    "plt.tight_layout()\n",
    "plt.show()"
   ]
  },
  {
   "cell_type": "code",
   "execution_count": 25,
   "id": "c6947c7a",
   "metadata": {},
   "outputs": [
    {
     "data": {
      "image/png": "[encoded data removed]",
      "text/plain": [
       "<Figure size 432x288 with 1 Axes>"
      ]
     },
     "metadata": {
      "needs_background": "light"
     },
     "output_type": "display_data"
    }
   ],
   "source": [
    "d = get_domain_samples(domains, 'n_high_viewers')\n",
    "\n",
    "plt.figure()\n",
    "sns.barplot(data=d, x='url_domain', y='n_high_viewers')\n",
    "save_tabular('n_high_viewers', d[['url_domain', 'n_high_viewers']])\n",
    "plt.xlabel('')\n",
    "plt.ylabel('Number of High View Users')\n",
    "plt.xticks(rotation='vertical')\n",
    "plt.tight_layout()\n",
    "plt.show()"
   ]
  },
  {
   "cell_type": "code",
   "execution_count": 26,
   "id": "f008a28c",
   "metadata": {},
   "outputs": [
    {
     "data": {
      "image/png": "[encoded data removed]",
      "text/plain": [
       "<Figure size 432x288 with 1 Axes>"
      ]
     },
     "metadata": {
      "needs_background": "light"
     },
     "output_type": "display_data"
    }
   ],
   "source": [
    "d = get_domain_samples(domains, 'n_high_viewers')\n",
    "\n",
    "plt.figure()\n",
    "sns.barplot(data=d, x='url_domain', y='frac_high_viewers')\n",
    "save_tabular('n_high_viewers_by_frac', d[['url_domain', 'frac_high_viewers']])\n",
    "\n",
    "plt.xlabel('')\n",
    "plt.ylabel('Fraction of High View Users')\n",
    "plt.xticks(rotation='vertical')\n",
    "plt.tight_layout()\n",
    "plt.show()"
   ]
  },
  {
   "cell_type": "code",
   "execution_count": 27,
   "id": "cc5efb51",
   "metadata": {
    "scrolled": false
   },
   "outputs": [
    {
     "data": {
      "image/png": "[encoded data removed]",
      "text/plain": [
       "<Figure size 432x288 with 1 Axes>"
      ]
     },
     "metadata": {
      "needs_background": "light"
     },
     "output_type": "display_data"
    }
   ],
   "source": [
    "Q = df_hfu.groupby('url_domain').sum().reset_index().n_views.quantile(0.99)\n",
    "d = get_domain_samples(\n",
    "    domains.query('n_users > @Q'),\n",
    "    'frac_high_viewers'\n",
    ")\n",
    "\n",
    "plt.figure()\n",
    "sns.barplot(data=d, x='url_domain', y='frac_high_viewers')\n",
    "save_tabular('frac_high_viewers_99pct', d[['url_domain', 'frac_high_viewers']])\n",
    "plt.xlabel('')\n",
    "plt.ylabel('Fraction of High View Users')\n",
    "plt.xticks(rotation='vertical')\n",
    "plt.tight_layout()\n",
    "plt.show()"
   ]
  },
  {
   "cell_type": "code",
   "execution_count": 28,
   "id": "db0404b8",
   "metadata": {},
   "outputs": [
    {
     "data": {
      "image/png": "[encoded data removed]",
      "text/plain": [
       "<Figure size 432x288 with 1 Axes>"
      ]
     },
     "metadata": {
      "needs_background": "light"
     },
     "output_type": "display_data"
    }
   ],
   "source": [
    "plt.figure()\n",
    "sns.histplot(data=domains, x='n_users')\n",
    "plt.show()"
   ]
  },
  {
   "cell_type": "markdown",
   "id": "653877e2",
   "metadata": {},
   "source": [
    "### Now let's look at just news domains"
   ]
  },
  {
   "cell_type": "code",
   "execution_count": 29,
   "id": "825852bd",
   "metadata": {},
   "outputs": [],
   "source": [
    "domains_news = data.filter_news_sources(domains)"
   ]
  },
  {
   "cell_type": "code",
   "execution_count": 30,
   "id": "a84181a8",
   "metadata": {
    "scrolled": true
   },
   "outputs": [
    {
     "data": {
      "image/png": "[encoded data removed]",
      "text/plain": [
       "<Figure size 432x288 with 1 Axes>"
      ]
     },
     "metadata": {
      "needs_background": "light"
     },
     "output_type": "display_data"
    }
   ],
   "source": [
    "d = get_domain_samples(\n",
    "    domains_news,\n",
    "    'frac_high_viewers',\n",
    "    N=50\n",
    ")\n",
    "\n",
    "plt.figure()\n",
    "sns.barplot(data=d,\n",
    "            x='url_domain',\n",
    "            y='frac_high_viewers',\n",
    "           )\n",
    "save_tabular('news_frac_high_viewers', d[['url_domain', 'frac_high_viewers']])\n",
    "plt.xlabel('')\n",
    "plt.ylabel('Percentage of high viewership users')\n",
    "plt.xticks(rotation='vertical')\n",
    "plt.tight_layout()\n",
    "plt.show()"
   ]
  }
 ],
 "metadata": {
  "interpreter": {
   "hash": "3d3fcffa76e1ea9585fbd26781e65120ac5a40e5e91e6e286fbe3393b916e04d"
  },
  "kernelspec": {
   "display_name": "Python 3 (ipykernel)",
   "language": "python",
   "name": "python3"
  },
  "language_info": {
   "codemirror_mode": {
    "name": "ipython",
    "version": 3
   },
   "file_extension": ".py",
   "mimetype": "text/x-python",
   "name": "python",
   "nbconvert_exporter": "python",
   "pygments_lexer": "ipython3",
   "version": "3.8.6"
  }
 },
 "nbformat": 4,
 "nbformat_minor": 5
}
