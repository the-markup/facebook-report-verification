{
 "cells": [
  {
   "cell_type": "markdown",
   "id": "bbb30a93",
   "metadata": {},
   "source": [
    "# Facebook Report Domain List Verification\n",
    "\n",
    "The purpose of this notebook is to analyze the list of top domains provided by Facebook in their \"transparency report Q2\" with the corresponding top domain list from Citizen Browser during the same time. The hope is that we can use these two lists to show that our results are indeed correlated with the general trends seen on facebook in order to give us confidence in results we see from other parts of the data."
   ]
  },
  {
   "cell_type": "code",
   "execution_count": 1,
   "id": "d6100ebf",
   "metadata": {},
   "outputs": [],
   "source": [
    "%matplotlib inline"
   ]
  },
  {
   "cell_type": "code",
   "execution_count": 2,
   "id": "032f9337",
   "metadata": {},
   "outputs": [],
   "source": [
    "import matplotlib.pyplot as plt\n",
    "import seaborn as sns\n",
    "import dataframe_image as dfi\n",
    "from matplotlib.ticker import FormatStrFormatter\n",
    "\n",
    "from tqdm.notebook import tqdm\n",
    "\n",
    "import numpy as np\n",
    "import pandas as pd\n",
    "import rbo\n",
    "\n",
    "from analysis import FBCBData, load_cb_unsponsored\n",
    "from utils import save_tabular"
   ]
  },
  {
   "cell_type": "code",
   "execution_count": 31,
   "id": "dbb7bb2f",
   "metadata": {},
   "outputs": [
    {
     "name": "stdout",
     "output_type": "stream",
     "text": [
      "Found query cache: data/query_cache/cef87b364a3d5f1203b78616c03612e8.csv\n"
     ]
    }
   ],
   "source": [
    "data = FBCBData(load_cb=load_cb_unsponsored)"
   ]
  },
  {
   "cell_type": "markdown",
   "id": "8a1422fb",
   "metadata": {},
   "source": [
    "First let's make the dataframe human readible to have a nice view for the methodology."
   ]
  },
  {
   "cell_type": "code",
   "execution_count": 33,
   "id": "765c84a2",
   "metadata": {},
   "outputs": [
    {
     "name": "stdout",
     "output_type": "stream",
     "text": [
      "<class 'pandas.core.frame.DataFrame'>\n",
      "Index: 20 entries, youtube.com to vimeo.com\n",
      "Data columns (total 5 columns):\n",
      " #   Column           Non-Null Count  Dtype\n",
      "---  ------           --------------  -----\n",
      " 0   Unnamed: 0       20 non-null     int64\n",
      " 1   unique_users_cb  20 non-null     int64\n",
      " 2   rank_cb          20 non-null     int64\n",
      " 3   rank_fb          20 non-null     int64\n",
      " 4   unique_users_fb  20 non-null     int64\n",
      "dtypes: int64(5)\n",
      "memory usage: 960.0+ bytes\n",
      "None\n"
     ]
    },
    {
     "data": {
      "text/html": [
       "<div>\n",
       "<style scoped>\n",
       "    .dataframe tbody tr th:only-of-type {\n",
       "        vertical-align: middle;\n",
       "    }\n",
       "\n",
       "    .dataframe tbody tr th {\n",
       "        vertical-align: top;\n",
       "    }\n",
       "\n",
       "    .dataframe thead th {\n",
       "        text-align: right;\n",
       "    }\n",
       "</style>\n",
       "<table border=\"1\" class=\"dataframe\">\n",
       "  <thead>\n",
       "    <tr style=\"text-align: right;\">\n",
       "      <th></th>\n",
       "      <th>Unique Citizen Browser Users</th>\n",
       "      <th>Ranking Markup</th>\n",
       "      <th>Ranking Facebook</th>\n",
       "      <th>Unique Facebook Users</th>\n",
       "    </tr>\n",
       "    <tr>\n",
       "      <th>Domain</th>\n",
       "      <th></th>\n",
       "      <th></th>\n",
       "      <th></th>\n",
       "      <th></th>\n",
       "    </tr>\n",
       "  </thead>\n",
       "  <tbody>\n",
       "    <tr>\n",
       "      <th>youtube.com</th>\n",
       "      <td>1604</td>\n",
       "      <td>1</td>\n",
       "      <td>1</td>\n",
       "      <td>181300000</td>\n",
       "    </tr>\n",
       "    <tr>\n",
       "      <th>amazon.com</th>\n",
       "      <td>1041</td>\n",
       "      <td>3</td>\n",
       "      <td>2</td>\n",
       "      <td>134600000</td>\n",
       "    </tr>\n",
       "    <tr>\n",
       "      <th>unicef.org</th>\n",
       "      <td>865</td>\n",
       "      <td>7</td>\n",
       "      <td>3</td>\n",
       "      <td>134400000</td>\n",
       "    </tr>\n",
       "    <tr>\n",
       "      <th>gofundme.com</th>\n",
       "      <td>761</td>\n",
       "      <td>12</td>\n",
       "      <td>4</td>\n",
       "      <td>124800000</td>\n",
       "    </tr>\n",
       "    <tr>\n",
       "      <th>twitter.com</th>\n",
       "      <td>978</td>\n",
       "      <td>4</td>\n",
       "      <td>5</td>\n",
       "      <td>116100000</td>\n",
       "    </tr>\n",
       "    <tr>\n",
       "      <th>media1.tenor.co</th>\n",
       "      <td>815</td>\n",
       "      <td>10</td>\n",
       "      <td>6</td>\n",
       "      <td>115600000</td>\n",
       "    </tr>\n",
       "    <tr>\n",
       "      <th>m.tiktok.com</th>\n",
       "      <td>599</td>\n",
       "      <td>22</td>\n",
       "      <td>7</td>\n",
       "      <td>110700000</td>\n",
       "    </tr>\n",
       "    <tr>\n",
       "      <th>open.spotify.com</th>\n",
       "      <td>639</td>\n",
       "      <td>18</td>\n",
       "      <td>8</td>\n",
       "      <td>93000000</td>\n",
       "    </tr>\n",
       "    <tr>\n",
       "      <th>playeralumniresources.com</th>\n",
       "      <td>462</td>\n",
       "      <td>36</td>\n",
       "      <td>9</td>\n",
       "      <td>89900000</td>\n",
       "    </tr>\n",
       "    <tr>\n",
       "      <th>abcnews.go.com</th>\n",
       "      <td>592</td>\n",
       "      <td>23</td>\n",
       "      <td>10</td>\n",
       "      <td>88100000</td>\n",
       "    </tr>\n",
       "    <tr>\n",
       "      <th>linktr.ee</th>\n",
       "      <td>325</td>\n",
       "      <td>75</td>\n",
       "      <td>11</td>\n",
       "      <td>87900000</td>\n",
       "    </tr>\n",
       "    <tr>\n",
       "      <th>dailymail.co.uk</th>\n",
       "      <td>635</td>\n",
       "      <td>19</td>\n",
       "      <td>12</td>\n",
       "      <td>86500000</td>\n",
       "    </tr>\n",
       "    <tr>\n",
       "      <th>docs.google.com</th>\n",
       "      <td>541</td>\n",
       "      <td>28</td>\n",
       "      <td>13</td>\n",
       "      <td>85800000</td>\n",
       "    </tr>\n",
       "    <tr>\n",
       "      <th>etsy.com</th>\n",
       "      <td>614</td>\n",
       "      <td>21</td>\n",
       "      <td>14</td>\n",
       "      <td>85500000</td>\n",
       "    </tr>\n",
       "    <tr>\n",
       "      <th>nbcnews.com</th>\n",
       "      <td>851</td>\n",
       "      <td>8</td>\n",
       "      <td>15</td>\n",
       "      <td>83100000</td>\n",
       "    </tr>\n",
       "    <tr>\n",
       "      <th>cnn.com</th>\n",
       "      <td>843</td>\n",
       "      <td>9</td>\n",
       "      <td>16</td>\n",
       "      <td>82800000</td>\n",
       "    </tr>\n",
       "    <tr>\n",
       "      <th>google.com</th>\n",
       "      <td>587</td>\n",
       "      <td>24</td>\n",
       "      <td>17</td>\n",
       "      <td>78600000</td>\n",
       "    </tr>\n",
       "    <tr>\n",
       "      <th>eventbrite.com</th>\n",
       "      <td>541</td>\n",
       "      <td>27</td>\n",
       "      <td>18</td>\n",
       "      <td>78400000</td>\n",
       "    </tr>\n",
       "    <tr>\n",
       "      <th>cbsnews.com</th>\n",
       "      <td>644</td>\n",
       "      <td>17</td>\n",
       "      <td>19</td>\n",
       "      <td>77100000</td>\n",
       "    </tr>\n",
       "    <tr>\n",
       "      <th>vimeo.com</th>\n",
       "      <td>297</td>\n",
       "      <td>83</td>\n",
       "      <td>20</td>\n",
       "      <td>76900000</td>\n",
       "    </tr>\n",
       "  </tbody>\n",
       "</table>\n",
       "</div>"
      ],
      "text/plain": [
       "                           Unique Citizen Browser Users  Ranking Markup  \\\n",
       "Domain                                                                    \n",
       "youtube.com                                        1604               1   \n",
       "amazon.com                                         1041               3   \n",
       "unicef.org                                          865               7   \n",
       "gofundme.com                                        761              12   \n",
       "twitter.com                                         978               4   \n",
       "media1.tenor.co                                     815              10   \n",
       "m.tiktok.com                                        599              22   \n",
       "open.spotify.com                                    639              18   \n",
       "playeralumniresources.com                           462              36   \n",
       "abcnews.go.com                                      592              23   \n",
       "linktr.ee                                           325              75   \n",
       "dailymail.co.uk                                     635              19   \n",
       "docs.google.com                                     541              28   \n",
       "etsy.com                                            614              21   \n",
       "nbcnews.com                                         851               8   \n",
       "cnn.com                                             843               9   \n",
       "google.com                                          587              24   \n",
       "eventbrite.com                                      541              27   \n",
       "cbsnews.com                                         644              17   \n",
       "vimeo.com                                           297              83   \n",
       "\n",
       "                           Ranking Facebook  Unique Facebook Users  \n",
       "Domain                                                              \n",
       "youtube.com                               1              181300000  \n",
       "amazon.com                                2              134600000  \n",
       "unicef.org                                3              134400000  \n",
       "gofundme.com                              4              124800000  \n",
       "twitter.com                               5              116100000  \n",
       "media1.tenor.co                           6              115600000  \n",
       "m.tiktok.com                              7              110700000  \n",
       "open.spotify.com                          8               93000000  \n",
       "playeralumniresources.com                 9               89900000  \n",
       "abcnews.go.com                           10               88100000  \n",
       "linktr.ee                                11               87900000  \n",
       "dailymail.co.uk                          12               86500000  \n",
       "docs.google.com                          13               85800000  \n",
       "etsy.com                                 14               85500000  \n",
       "nbcnews.com                              15               83100000  \n",
       "cnn.com                                  16               82800000  \n",
       "google.com                               17               78600000  \n",
       "eventbrite.com                           18               78400000  \n",
       "cbsnews.com                              19               77100000  \n",
       "vimeo.com                                20               76900000  "
      ]
     },
     "execution_count": 33,
     "metadata": {},
     "output_type": "execute_result"
    }
   ],
   "source": [
    "fbcb = data.joined_domains()\n",
    "print(fbcb.info())\n",
    "fbcb.index.names = ['Domain']\n",
    "fbcb_clean = (fbcb\n",
    "     .drop(columns=['Unnamed: 0'], errors='ignore')\n",
    "     .rename(columns={\n",
    "         \"unique_users_cb\": \"Unique Citizen Browser Users\",\n",
    "         \"rank_cb\": \"Ranking Markup\",\n",
    "         \"rank_fb\": \"Ranking Facebook\",\n",
    "         \"unique_users_fb\": \"Unique Facebook Users\",\n",
    "     })\n",
    "     .head(20))\n",
    "dfi.export(fbcb_clean, 'images/fig4.png')\n",
    "fbcb_clean"
   ]
  },
  {
   "cell_type": "code",
   "execution_count": 34,
   "id": "4ef4564e",
   "metadata": {},
   "outputs": [],
   "source": [
    "fbcb_clean.to_clipboard()"
   ]
  },
  {
   "cell_type": "code",
   "execution_count": 5,
   "id": "87b9bdf6",
   "metadata": {},
   "outputs": [
    {
     "data": {
      "text/html": [
       "<div>\n",
       "<style scoped>\n",
       "    .dataframe tbody tr th:only-of-type {\n",
       "        vertical-align: middle;\n",
       "    }\n",
       "\n",
       "    .dataframe tbody tr th {\n",
       "        vertical-align: top;\n",
       "    }\n",
       "\n",
       "    .dataframe thead th {\n",
       "        text-align: right;\n",
       "    }\n",
       "</style>\n",
       "<table border=\"1\" class=\"dataframe\">\n",
       "  <thead>\n",
       "    <tr style=\"text-align: right;\">\n",
       "      <th></th>\n",
       "      <th>Unnamed: 0</th>\n",
       "      <th>unique_users_cb</th>\n",
       "      <th>rank_cb</th>\n",
       "      <th>rank_fb</th>\n",
       "      <th>unique_users_fb</th>\n",
       "    </tr>\n",
       "    <tr>\n",
       "      <th>url_domain</th>\n",
       "      <th></th>\n",
       "      <th></th>\n",
       "      <th></th>\n",
       "      <th></th>\n",
       "      <th></th>\n",
       "    </tr>\n",
       "  </thead>\n",
       "  <tbody>\n",
       "    <tr>\n",
       "      <th>youtube.com</th>\n",
       "      <td>0</td>\n",
       "      <td>1604</td>\n",
       "      <td>1</td>\n",
       "      <td>1.0</td>\n",
       "      <td>1.813000e+11</td>\n",
       "    </tr>\n",
       "    <tr>\n",
       "      <th>facebook.com</th>\n",
       "      <td>1</td>\n",
       "      <td>1410</td>\n",
       "      <td>2</td>\n",
       "      <td>NaN</td>\n",
       "      <td>NaN</td>\n",
       "    </tr>\n",
       "    <tr>\n",
       "      <th>amazon.com</th>\n",
       "      <td>2</td>\n",
       "      <td>1041</td>\n",
       "      <td>3</td>\n",
       "      <td>2.0</td>\n",
       "      <td>1.346000e+11</td>\n",
       "    </tr>\n",
       "    <tr>\n",
       "      <th>twitter.com</th>\n",
       "      <td>3</td>\n",
       "      <td>978</td>\n",
       "      <td>4</td>\n",
       "      <td>5.0</td>\n",
       "      <td>1.161000e+11</td>\n",
       "    </tr>\n",
       "    <tr>\n",
       "      <th>nytimes.com</th>\n",
       "      <td>4</td>\n",
       "      <td>933</td>\n",
       "      <td>5</td>\n",
       "      <td>NaN</td>\n",
       "      <td>NaN</td>\n",
       "    </tr>\n",
       "    <tr>\n",
       "      <th>washingtonpost.com</th>\n",
       "      <td>5</td>\n",
       "      <td>892</td>\n",
       "      <td>6</td>\n",
       "      <td>NaN</td>\n",
       "      <td>NaN</td>\n",
       "    </tr>\n",
       "    <tr>\n",
       "      <th>unicef.org</th>\n",
       "      <td>6</td>\n",
       "      <td>865</td>\n",
       "      <td>7</td>\n",
       "      <td>3.0</td>\n",
       "      <td>1.344000e+11</td>\n",
       "    </tr>\n",
       "    <tr>\n",
       "      <th>nbcnews.com</th>\n",
       "      <td>7</td>\n",
       "      <td>851</td>\n",
       "      <td>8</td>\n",
       "      <td>15.0</td>\n",
       "      <td>8.310000e+10</td>\n",
       "    </tr>\n",
       "    <tr>\n",
       "      <th>cnn.com</th>\n",
       "      <td>8</td>\n",
       "      <td>843</td>\n",
       "      <td>9</td>\n",
       "      <td>16.0</td>\n",
       "      <td>8.280000e+10</td>\n",
       "    </tr>\n",
       "    <tr>\n",
       "      <th>media1.tenor.co</th>\n",
       "      <td>9</td>\n",
       "      <td>815</td>\n",
       "      <td>10</td>\n",
       "      <td>6.0</td>\n",
       "      <td>1.156000e+11</td>\n",
       "    </tr>\n",
       "    <tr>\n",
       "      <th>npr.org</th>\n",
       "      <td>10</td>\n",
       "      <td>814</td>\n",
       "      <td>11</td>\n",
       "      <td>NaN</td>\n",
       "      <td>NaN</td>\n",
       "    </tr>\n",
       "    <tr>\n",
       "      <th>gofundme.com</th>\n",
       "      <td>11</td>\n",
       "      <td>761</td>\n",
       "      <td>12</td>\n",
       "      <td>4.0</td>\n",
       "      <td>1.248000e+11</td>\n",
       "    </tr>\n",
       "    <tr>\n",
       "      <th>bbc.com</th>\n",
       "      <td>12</td>\n",
       "      <td>677</td>\n",
       "      <td>13</td>\n",
       "      <td>NaN</td>\n",
       "      <td>NaN</td>\n",
       "    </tr>\n",
       "    <tr>\n",
       "      <th>theguardian.com</th>\n",
       "      <td>13</td>\n",
       "      <td>672</td>\n",
       "      <td>14</td>\n",
       "      <td>NaN</td>\n",
       "      <td>NaN</td>\n",
       "    </tr>\n",
       "    <tr>\n",
       "      <th>usatoday.com</th>\n",
       "      <td>14</td>\n",
       "      <td>659</td>\n",
       "      <td>15</td>\n",
       "      <td>NaN</td>\n",
       "      <td>NaN</td>\n",
       "    </tr>\n",
       "    <tr>\n",
       "      <th>cnbc.com</th>\n",
       "      <td>15</td>\n",
       "      <td>658</td>\n",
       "      <td>16</td>\n",
       "      <td>NaN</td>\n",
       "      <td>NaN</td>\n",
       "    </tr>\n",
       "    <tr>\n",
       "      <th>cbsnews.com</th>\n",
       "      <td>16</td>\n",
       "      <td>644</td>\n",
       "      <td>17</td>\n",
       "      <td>19.0</td>\n",
       "      <td>7.710000e+10</td>\n",
       "    </tr>\n",
       "    <tr>\n",
       "      <th>open.spotify.com</th>\n",
       "      <td>17</td>\n",
       "      <td>639</td>\n",
       "      <td>18</td>\n",
       "      <td>8.0</td>\n",
       "      <td>9.300000e+10</td>\n",
       "    </tr>\n",
       "    <tr>\n",
       "      <th>dailymail.co.uk</th>\n",
       "      <td>18</td>\n",
       "      <td>635</td>\n",
       "      <td>19</td>\n",
       "      <td>12.0</td>\n",
       "      <td>8.650000e+10</td>\n",
       "    </tr>\n",
       "    <tr>\n",
       "      <th>forbes.com</th>\n",
       "      <td>19</td>\n",
       "      <td>621</td>\n",
       "      <td>20</td>\n",
       "      <td>NaN</td>\n",
       "      <td>NaN</td>\n",
       "    </tr>\n",
       "  </tbody>\n",
       "</table>\n",
       "</div>"
      ],
      "text/plain": [
       "                    Unnamed: 0  unique_users_cb  rank_cb  rank_fb  \\\n",
       "url_domain                                                          \n",
       "youtube.com                  0             1604        1      1.0   \n",
       "facebook.com                 1             1410        2      NaN   \n",
       "amazon.com                   2             1041        3      2.0   \n",
       "twitter.com                  3              978        4      5.0   \n",
       "nytimes.com                  4              933        5      NaN   \n",
       "washingtonpost.com           5              892        6      NaN   \n",
       "unicef.org                   6              865        7      3.0   \n",
       "nbcnews.com                  7              851        8     15.0   \n",
       "cnn.com                      8              843        9     16.0   \n",
       "media1.tenor.co              9              815       10      6.0   \n",
       "npr.org                     10              814       11      NaN   \n",
       "gofundme.com                11              761       12      4.0   \n",
       "bbc.com                     12              677       13      NaN   \n",
       "theguardian.com             13              672       14      NaN   \n",
       "usatoday.com                14              659       15      NaN   \n",
       "cnbc.com                    15              658       16      NaN   \n",
       "cbsnews.com                 16              644       17     19.0   \n",
       "open.spotify.com            17              639       18      8.0   \n",
       "dailymail.co.uk             18              635       19     12.0   \n",
       "forbes.com                  19              621       20      NaN   \n",
       "\n",
       "                    unique_users_fb  \n",
       "url_domain                           \n",
       "youtube.com            1.813000e+11  \n",
       "facebook.com                    NaN  \n",
       "amazon.com             1.346000e+11  \n",
       "twitter.com            1.161000e+11  \n",
       "nytimes.com                     NaN  \n",
       "washingtonpost.com              NaN  \n",
       "unicef.org             1.344000e+11  \n",
       "nbcnews.com            8.310000e+10  \n",
       "cnn.com                8.280000e+10  \n",
       "media1.tenor.co        1.156000e+11  \n",
       "npr.org                         NaN  \n",
       "gofundme.com           1.248000e+11  \n",
       "bbc.com                         NaN  \n",
       "theguardian.com                 NaN  \n",
       "usatoday.com                    NaN  \n",
       "cnbc.com                        NaN  \n",
       "cbsnews.com            7.710000e+10  \n",
       "open.spotify.com       9.300000e+10  \n",
       "dailymail.co.uk        8.650000e+10  \n",
       "forbes.com                      NaN  "
      ]
     },
     "execution_count": 5,
     "metadata": {},
     "output_type": "execute_result"
    }
   ],
   "source": [
    "data.joined_domains(how='outer').sort_values('rank_cb').head(20)"
   ]
  },
  {
   "cell_type": "markdown",
   "id": "7c8d93ed",
   "metadata": {},
   "source": [
    "## Domain Correlation\n",
    "\n",
    "Let's look at the raw correlation between the domain rankings and the view counts. We assume that the p-values for the domain correlation is biased because the null hypothesis doesn't properlly consider our full ranking and only sees the partial, intesected, ranking with respect to the facebook report.\n",
    "\n",
    "The domain correlation is done by taking the \"ranking facebook\" and \"ranking markup\" columns from the above dataframe and feeding them into scipy.stats.kendalltau.\n",
    "\n",
    "The views correlation is done by taking the \"Unique Users Markup\" and \"Unique Users Facebook\" and feeding them into scipy.stats.spearmanr."
   ]
  },
  {
   "cell_type": "code",
   "execution_count": 6,
   "id": "7e896d39",
   "metadata": {},
   "outputs": [
    {
     "name": "stdout",
     "output_type": "stream",
     "text": [
      "Domain Correlation: KendalltauResult(correlation=0.45263157894736844, pvalue=0.004748309856126978)\n",
      "Views Correlation: SpearmanrResult(correlation=0.5889432533829471, pvalue=0.006291793725930202)\n"
     ]
    }
   ],
   "source": [
    "print(\"Domain Correlation:\", data.correlation_domains())\n",
    "print(\"Views Correlation:\", data.correlation_views())"
   ]
  },
  {
   "cell_type": "markdown",
   "id": "8d5463af",
   "metadata": {},
   "source": [
    "### P-Value Simulation\n",
    "\n",
    "In order to calculate a more reasonable p-value, we sample from randomly generated full rankings of our domains and perform the same Kendall Tau correlation as above. The Markup's full ranking is shuffled, intersected with the Facebook ranking, and the correlation is performed (and outputted by the `random_sampler`). We are then able to calculate the one-sided p-value by seeing how many samples had a correlation lower than the correlation we calculate for our list."
   ]
  },
  {
   "cell_type": "code",
   "execution_count": 7,
   "id": "57d114f6",
   "metadata": {},
   "outputs": [
    {
     "data": {
      "application/vnd.jupyter.widget-view+json": {
       "model_id": "683de75db6784c95827a99f1c39d3786",
       "version_major": 2,
       "version_minor": 0
      },
      "text/plain": [
       "  0%|          | 0/500000 [00:00<?, ?it/s]"
      ]
     },
     "metadata": {},
     "output_type": "display_data"
    }
   ],
   "source": [
    "corr_random = []\n",
    "corr, p = data.correlation_domains()\n",
    "\n",
    "random_sampler = data.correlation_domains_random()\n",
    "for _ in tqdm(range(500_000)):\n",
    "    c, _ = next(random_sampler)\n",
    "    corr_random.append(c)"
   ]
  },
  {
   "cell_type": "code",
   "execution_count": 8,
   "id": "1af7c421",
   "metadata": {},
   "outputs": [
    {
     "name": "stdout",
     "output_type": "stream",
     "text": [
      "domains corr: 0.45263157894736844\n",
      "approx p: 0.004748309856126978\n",
      "exact one-sided p: 0.002342\n"
     ]
    }
   ],
   "source": [
    "print(\"domains corr:\", corr)\n",
    "print(\"approx p:\", p)\n",
    "print(\"exact one-sided p:\", sum(1 for c in corr_random if c >= corr) / len(corr_random))"
   ]
  },
  {
   "cell_type": "code",
   "execution_count": 9,
   "id": "6b3edb9d",
   "metadata": {},
   "outputs": [
    {
     "data": {
      "image/png": "[encoded data removed]",
      "text/plain": [
       "<Figure size 432x288 with 1 Axes>"
      ]
     },
     "metadata": {
      "needs_background": "light"
     },
     "output_type": "display_data"
    }
   ],
   "source": [
    "plt.figure()\n",
    "sns.histplot(corr_random, stat='probability')\n",
    "plt.axvline(corr)\n",
    "plt.xlabel('Kendall Tau Correlation')\n",
    "plt.title('Correlation of full ranking vs Randomly Generated')\n",
    "\n",
    "plt.tight_layout()\n",
    "plt.savefig(\"images/fig2.png\")\n",
    "plt.show()"
   ]
  },
  {
   "cell_type": "markdown",
   "id": "5f21632e",
   "metadata": {},
   "source": [
    "For posterity, we also calculate the RBO coefficient to see how much the intersection of the lists effects the results"
   ]
  },
  {
   "cell_type": "code",
   "execution_count": 10,
   "id": "0372662f",
   "metadata": {},
   "outputs": [
    {
     "data": {
      "text/plain": [
       "0.6369912465898435"
      ]
     },
     "execution_count": 10,
     "metadata": {},
     "output_type": "execute_result"
    }
   ],
   "source": [
    "data.correlation_domains(method='rbo')"
   ]
  },
  {
   "cell_type": "markdown",
   "id": "1f3d84cd",
   "metadata": {},
   "source": [
    "### Data Visualization\n",
    "\n",
    "We now dive a bit into the full dataset. Here, `df` is the full, non-intersected dataset. Note that all the `*_fb` fields are None except for those 20 domains from the facebook report."
   ]
  },
  {
   "cell_type": "code",
   "execution_count": 11,
   "id": "91cd04c4",
   "metadata": {},
   "outputs": [
    {
     "data": {
      "text/html": [
       "<div>\n",
       "<style scoped>\n",
       "    .dataframe tbody tr th:only-of-type {\n",
       "        vertical-align: middle;\n",
       "    }\n",
       "\n",
       "    .dataframe tbody tr th {\n",
       "        vertical-align: top;\n",
       "    }\n",
       "\n",
       "    .dataframe thead th {\n",
       "        text-align: right;\n",
       "    }\n",
       "</style>\n",
       "<table border=\"1\" class=\"dataframe\">\n",
       "  <thead>\n",
       "    <tr style=\"text-align: right;\">\n",
       "      <th></th>\n",
       "      <th>Unnamed: 0</th>\n",
       "      <th>unique_users_cb</th>\n",
       "      <th>rank_cb</th>\n",
       "      <th>rank_fb</th>\n",
       "      <th>unique_users_fb</th>\n",
       "    </tr>\n",
       "    <tr>\n",
       "      <th>url_domain</th>\n",
       "      <th></th>\n",
       "      <th></th>\n",
       "      <th></th>\n",
       "      <th></th>\n",
       "      <th></th>\n",
       "    </tr>\n",
       "  </thead>\n",
       "  <tbody>\n",
       "    <tr>\n",
       "      <th>youtube.com</th>\n",
       "      <td>0</td>\n",
       "      <td>1604</td>\n",
       "      <td>1</td>\n",
       "      <td>1.0</td>\n",
       "      <td>1.813000e+11</td>\n",
       "    </tr>\n",
       "    <tr>\n",
       "      <th>amazon.com</th>\n",
       "      <td>2</td>\n",
       "      <td>1041</td>\n",
       "      <td>3</td>\n",
       "      <td>2.0</td>\n",
       "      <td>1.346000e+11</td>\n",
       "    </tr>\n",
       "    <tr>\n",
       "      <th>unicef.org</th>\n",
       "      <td>6</td>\n",
       "      <td>865</td>\n",
       "      <td>7</td>\n",
       "      <td>3.0</td>\n",
       "      <td>1.344000e+11</td>\n",
       "    </tr>\n",
       "    <tr>\n",
       "      <th>gofundme.com</th>\n",
       "      <td>11</td>\n",
       "      <td>761</td>\n",
       "      <td>12</td>\n",
       "      <td>4.0</td>\n",
       "      <td>1.248000e+11</td>\n",
       "    </tr>\n",
       "    <tr>\n",
       "      <th>twitter.com</th>\n",
       "      <td>3</td>\n",
       "      <td>978</td>\n",
       "      <td>4</td>\n",
       "      <td>5.0</td>\n",
       "      <td>1.161000e+11</td>\n",
       "    </tr>\n",
       "  </tbody>\n",
       "</table>\n",
       "</div>"
      ],
      "text/plain": [
       "              Unnamed: 0  unique_users_cb  rank_cb  rank_fb  unique_users_fb\n",
       "url_domain                                                                  \n",
       "youtube.com            0             1604        1      1.0     1.813000e+11\n",
       "amazon.com             2             1041        3      2.0     1.346000e+11\n",
       "unicef.org             6              865        7      3.0     1.344000e+11\n",
       "gofundme.com          11              761       12      4.0     1.248000e+11\n",
       "twitter.com            3              978        4      5.0     1.161000e+11"
      ]
     },
     "execution_count": 11,
     "metadata": {},
     "output_type": "execute_result"
    }
   ],
   "source": [
    "df = data.joined_domains(how='outer')\n",
    "df.describe()\n",
    "df.head()"
   ]
  },
  {
   "cell_type": "code",
   "execution_count": 12,
   "id": "9e148514",
   "metadata": {},
   "outputs": [
    {
     "data": {
      "image/png": "[encoded data removed]",
      "text/plain": [
       "<Figure size 432x288 with 1 Axes>"
      ]
     },
     "metadata": {
      "needs_background": "light"
     },
     "output_type": "display_data"
    }
   ],
   "source": [
    "plt.figure()\n",
    "\n",
    "ax = sns.barplot(data=df.head(87), x='rank_cb', y='unique_users_cb')\n",
    "save_tabular(\"cb_top_87\", df.head(87)[['rank_cb', 'unique_users_cb']])\n",
    "\n",
    "ax.set_yscale('log')\n",
    "ax.set_ylabel(\"Number of unique users\")\n",
    "ax.set_xlabel(\"Domain\")\n",
    "ax.set_title(\"Unique user counts for top 87 domains\")\n",
    "ax.set_xticks([])\n",
    "ax.yaxis.set_minor_formatter(FormatStrFormatter(\"%.0f\"))\n",
    "ax.yaxis.set_major_formatter(FormatStrFormatter(\"%.0f\"))\n",
    "plt.tick_params(axis='y', which='minor')\n",
    "\n",
    "plt.tight_layout()\n",
    "plt.savefig(\"images/fig1a.png\")\n",
    "plt.show()"
   ]
  },
  {
   "cell_type": "code",
   "execution_count": 13,
   "id": "91f16699",
   "metadata": {
    "scrolled": false
   },
   "outputs": [
    {
     "data": {
      "image/png": "[encoded data removed]",
      "text/plain": [
       "<Figure size 432x288 with 1 Axes>"
      ]
     },
     "metadata": {
      "needs_background": "light"
     },
     "output_type": "display_data"
    }
   ],
   "source": [
    "plt.figure()\n",
    "\n",
    "ax = sns.barplot(data=fbcb.sort_values('rank_fb'), x='rank_fb', y='unique_users_fb')\n",
    "save_tabular(\"fb_top_20\", \n",
    "             fbcb.sort_values('rank_fb')[['rank_fb', 'unique_users_fb']])\n",
    "\n",
    "ax.set_yscale('log')\n",
    "ax.set_ylabel(\"Number of unique users\")\n",
    "ax.set_xlabel(\"Domain\")\n",
    "ax.set_title(\"Facebook user counts for top 20 domains\")\n",
    "ax.set_xticks([])\n",
    "\n",
    "ax.yaxis.set_minor_formatter(FormatStrFormatter(\"%.0f\"))\n",
    "ax.yaxis.set_major_formatter(FormatStrFormatter(\"%.0f\"))\n",
    "plt.tick_params(axis='y', which='minor')\n",
    "\n",
    "plt.tight_layout()\n",
    "plt.savefig(\"images/fig1b.png\")\n",
    "plt.show()"
   ]
  },
  {
   "cell_type": "markdown",
   "id": "7aa12b52",
   "metadata": {},
   "source": [
    "### RBO Verification\n",
    "\n",
    "For verification that the intersection of the two ranked lists isn't an overly biasing effect, we quickly calculate the [RBO](https://dl.acm.org/doi/abs/10.1145/1852102.1852106) of the two sets to make sure it is consistent with our results abobve"
   ]
  },
  {
   "cell_type": "code",
   "execution_count": 14,
   "id": "66efdfe3",
   "metadata": {},
   "outputs": [
    {
     "name": "stdout",
     "output_type": "stream",
     "text": [
      "RBO Extrapolated (Eq. (32) from paper): 0.6306900298274583\n",
      "RBO Default: 0.5346698648788433\n"
     ]
    },
    {
     "data": {
      "image/png": "[encoded data removed]",
      "text/plain": [
       "<Figure size 432x288 with 1 Axes>"
      ]
     },
     "metadata": {
      "needs_background": "light"
     },
     "output_type": "display_data"
    }
   ],
   "source": [
    "cb = df.sort_values('rank_cb').index.to_list()\n",
    "fb = df.query('rank_fb > 0').sort_values('rank_fb').index.to_list()\n",
    "corr, _ = data.correlation_domains()\n",
    "\n",
    "r = rbo.RankingSimilarity(cb, fb)\n",
    "print(\"RBO Extrapolated (Eq. (32) from paper):\", r.rbo_ext())\n",
    "print(\"RBO Default:\", r.rbo())\n",
    "\n",
    "P = np.arange(0.05, 1, 0.025)\n",
    "Y = [r.rbo(p=p) for p in P]\n",
    "Y_ext = [r.rbo_ext(p=p) for p in P]\n",
    "\n",
    "f = plt.figure()\n",
    "plt.plot(P, Y, label='RBO')\n",
    "plt.plot(P, Y_ext, label='RBO Ext')\n",
    "# note: rbo and kendall aren't directly comparable, but it's a good smell test\n",
    "plt.axhline(y=corr, label='Kendall Tau')\n",
    "plt.legend()\n",
    "\n",
    "plt.xlabel(\"p (top-weightness)\")\n",
    "plt.ylabel(\"RBO Coef\")\n",
    "plt.show()"
   ]
  },
  {
   "cell_type": "markdown",
   "id": "05958229",
   "metadata": {},
   "source": [
    "## Views Correlation\n",
    "\n",
    "Now just a quick dive into the correlation between the viewership numbers from the facebook report."
   ]
  },
  {
   "cell_type": "code",
   "execution_count": 15,
   "id": "5546bcea",
   "metadata": {},
   "outputs": [
    {
     "data": {
      "text/plain": [
       "SpearmanrResult(correlation=0.5889432533829471, pvalue=0.006291793725930202)"
      ]
     },
     "execution_count": 15,
     "metadata": {},
     "output_type": "execute_result"
    }
   ],
   "source": [
    "data.correlation_views()"
   ]
  },
  {
   "cell_type": "code",
   "execution_count": 16,
   "id": "5f08d77b",
   "metadata": {},
   "outputs": [
    {
     "data": {
      "image/png": "[encoded data removed]",
      "text/plain": [
       "<Figure size 432x288 with 1 Axes>"
      ]
     },
     "metadata": {
      "needs_background": "light"
     },
     "output_type": "display_data"
    }
   ],
   "source": [
    "plt.figure()\n",
    "g = sns.regplot(data=fbcb, \n",
    "                x='unique_users_cb', \n",
    "                y='unique_users_fb',\n",
    "                n_boot=10_000)\n",
    "g.set_ylabel('Unique Users Facebook')\n",
    "g.set_xlabel(\n",
    "'Unique Users Markup')\n",
    "\n",
    "plt.tight_layout()\n",
    "plt.savefig(\"images/fig3.svg\")\n",
    "plt.show()"
   ]
  },
  {
   "cell_type": "code",
   "execution_count": 17,
   "id": "07fe3168",
   "metadata": {},
   "outputs": [
    {
     "name": "stdout",
     "output_type": "stream",
     "text": [
      "slope: [78271209.90916055]\n",
      "int: [4.48493799e+10]\n"
     ]
    }
   ],
   "source": [
    "a = np.vstack([\n",
    "    fbcb.unique_users_cb.to_numpy(),\n",
    "    np.ones(20)\n",
    "]).T\n",
    "b = fbcb.unique_users_fb.to_numpy()[..., np.newaxis]\n",
    "m, b = np.linalg.lstsq(a, b, rcond=-1)[0]\n",
    "print(\"slope:\", m)\n",
    "print(\"int:\", b)"
   ]
  },
  {
   "cell_type": "markdown",
   "id": "52c82e2a",
   "metadata": {},
   "source": [
    "# Domains with high viewership users"
   ]
  },
  {
   "cell_type": "code",
   "execution_count": 18,
   "id": "5a6f7a47",
   "metadata": {},
   "outputs": [
    {
     "name": "stdout",
     "output_type": "stream",
     "text": [
      "Found query cache: data/query_cache/cf92a50acb57931b205aa600ae85836e.csv\n"
     ]
    }
   ],
   "source": [
    "df_hfu = data.high_frequency_users()"
   ]
  },
  {
   "cell_type": "code",
   "execution_count": 19,
   "id": "f82f3de5",
   "metadata": {},
   "outputs": [
    {
     "data": {
      "text/html": [
       "<div>\n",
       "<style scoped>\n",
       "    .dataframe tbody tr th:only-of-type {\n",
       "        vertical-align: middle;\n",
       "    }\n",
       "\n",
       "    .dataframe tbody tr th {\n",
       "        vertical-align: top;\n",
       "    }\n",
       "\n",
       "    .dataframe thead th {\n",
       "        text-align: right;\n",
       "    }\n",
       "</style>\n",
       "<table border=\"1\" class=\"dataframe\">\n",
       "  <thead>\n",
       "    <tr style=\"text-align: right;\">\n",
       "      <th></th>\n",
       "      <th>Unnamed: 0</th>\n",
       "      <th>url_domain</th>\n",
       "      <th>user_id</th>\n",
       "      <th>n_views</th>\n",
       "    </tr>\n",
       "  </thead>\n",
       "  <tbody>\n",
       "    <tr>\n",
       "      <th>174333</th>\n",
       "      <td>174333</td>\n",
       "      <td>metro.co.uk</td>\n",
       "      <td>77dabda1cdc19da7641b8cc212486947</td>\n",
       "      <td>1</td>\n",
       "    </tr>\n",
       "    <tr>\n",
       "      <th>312985</th>\n",
       "      <td>312985</td>\n",
       "      <td>wanttoknow.info</td>\n",
       "      <td>0b90464814c7f5df7f8eed41dadd4231</td>\n",
       "      <td>2</td>\n",
       "    </tr>\n",
       "    <tr>\n",
       "      <th>221554</th>\n",
       "      <td>221554</td>\n",
       "      <td>pledge-tools23.com</td>\n",
       "      <td>bd20b1bb5985771473041c3b14b7ceef</td>\n",
       "      <td>1</td>\n",
       "    </tr>\n",
       "    <tr>\n",
       "      <th>262066</th>\n",
       "      <td>262066</td>\n",
       "      <td>starthrowergroup.com</td>\n",
       "      <td>e3b3263f69a6cebd80e58c6c58feaad6</td>\n",
       "      <td>2</td>\n",
       "    </tr>\n",
       "    <tr>\n",
       "      <th>143466</th>\n",
       "      <td>143466</td>\n",
       "      <td>journal-news.net</td>\n",
       "      <td>dbe436fe61ddb98c61d8b635f7970347</td>\n",
       "      <td>5</td>\n",
       "    </tr>\n",
       "    <tr>\n",
       "      <th>48669</th>\n",
       "      <td>48669</td>\n",
       "      <td>cbsnews.com</td>\n",
       "      <td>7de42503b1ad25fff35e7ea85e1f459e</td>\n",
       "      <td>4</td>\n",
       "    </tr>\n",
       "    <tr>\n",
       "      <th>311642</th>\n",
       "      <td>311642</td>\n",
       "      <td>vox.com</td>\n",
       "      <td>d0569ec67baf1dcb19178133ccb2988b</td>\n",
       "      <td>4</td>\n",
       "    </tr>\n",
       "    <tr>\n",
       "      <th>32045</th>\n",
       "      <td>32045</td>\n",
       "      <td>billygraham.org</td>\n",
       "      <td>e64b4758f8ab46ffb1affe91bf1acd66</td>\n",
       "      <td>1</td>\n",
       "    </tr>\n",
       "    <tr>\n",
       "      <th>238258</th>\n",
       "      <td>238258</td>\n",
       "      <td>rjldesignz.com</td>\n",
       "      <td>0d195dc17cfff8b70794fa91928f6e44</td>\n",
       "      <td>1</td>\n",
       "    </tr>\n",
       "    <tr>\n",
       "      <th>111759</th>\n",
       "      <td>111759</td>\n",
       "      <td>giphy.com</td>\n",
       "      <td>e869862a3ca945194bb73e594884aea5</td>\n",
       "      <td>1</td>\n",
       "    </tr>\n",
       "  </tbody>\n",
       "</table>\n",
       "</div>"
      ],
      "text/plain": [
       "        Unnamed: 0            url_domain                           user_id  \\\n",
       "174333      174333           metro.co.uk  77dabda1cdc19da7641b8cc212486947   \n",
       "312985      312985       wanttoknow.info  0b90464814c7f5df7f8eed41dadd4231   \n",
       "221554      221554    pledge-tools23.com  bd20b1bb5985771473041c3b14b7ceef   \n",
       "262066      262066  starthrowergroup.com  e3b3263f69a6cebd80e58c6c58feaad6   \n",
       "143466      143466      journal-news.net  dbe436fe61ddb98c61d8b635f7970347   \n",
       "48669        48669           cbsnews.com  7de42503b1ad25fff35e7ea85e1f459e   \n",
       "311642      311642               vox.com  d0569ec67baf1dcb19178133ccb2988b   \n",
       "32045        32045       billygraham.org  e64b4758f8ab46ffb1affe91bf1acd66   \n",
       "238258      238258        rjldesignz.com  0d195dc17cfff8b70794fa91928f6e44   \n",
       "111759      111759             giphy.com  e869862a3ca945194bb73e594884aea5   \n",
       "\n",
       "        n_views  \n",
       "174333        1  \n",
       "312985        2  \n",
       "221554        1  \n",
       "262066        2  \n",
       "143466        5  \n",
       "48669         4  \n",
       "311642        4  \n",
       "32045         1  \n",
       "238258        1  \n",
       "111759        1  "
      ]
     },
     "execution_count": 19,
     "metadata": {},
     "output_type": "execute_result"
    }
   ],
   "source": [
    "df_hfu.sample(n=10)"
   ]
  },
  {
   "cell_type": "code",
   "execution_count": 20,
   "id": "12cf22a2",
   "metadata": {},
   "outputs": [
    {
     "data": {
      "text/html": [
       "<div>\n",
       "<style scoped>\n",
       "    .dataframe tbody tr th:only-of-type {\n",
       "        vertical-align: middle;\n",
       "    }\n",
       "\n",
       "    .dataframe tbody tr th {\n",
       "        vertical-align: top;\n",
       "    }\n",
       "\n",
       "    .dataframe thead th {\n",
       "        text-align: right;\n",
       "    }\n",
       "</style>\n",
       "<table border=\"1\" class=\"dataframe\">\n",
       "  <thead>\n",
       "    <tr style=\"text-align: right;\">\n",
       "      <th></th>\n",
       "      <th>Unnamed: 0</th>\n",
       "      <th>n_views</th>\n",
       "    </tr>\n",
       "  </thead>\n",
       "  <tbody>\n",
       "    <tr>\n",
       "      <th>count</th>\n",
       "      <td>333688.00000</td>\n",
       "      <td>333688.000000</td>\n",
       "    </tr>\n",
       "    <tr>\n",
       "      <th>mean</th>\n",
       "      <td>166843.50000</td>\n",
       "      <td>3.639184</td>\n",
       "    </tr>\n",
       "    <tr>\n",
       "      <th>std</th>\n",
       "      <td>96327.57265</td>\n",
       "      <td>21.318328</td>\n",
       "    </tr>\n",
       "    <tr>\n",
       "      <th>min</th>\n",
       "      <td>0.00000</td>\n",
       "      <td>1.000000</td>\n",
       "    </tr>\n",
       "    <tr>\n",
       "      <th>25%</th>\n",
       "      <td>83421.75000</td>\n",
       "      <td>1.000000</td>\n",
       "    </tr>\n",
       "    <tr>\n",
       "      <th>50%</th>\n",
       "      <td>166843.50000</td>\n",
       "      <td>1.000000</td>\n",
       "    </tr>\n",
       "    <tr>\n",
       "      <th>75%</th>\n",
       "      <td>250265.25000</td>\n",
       "      <td>2.000000</td>\n",
       "    </tr>\n",
       "    <tr>\n",
       "      <th>max</th>\n",
       "      <td>333687.00000</td>\n",
       "      <td>4095.000000</td>\n",
       "    </tr>\n",
       "  </tbody>\n",
       "</table>\n",
       "</div>"
      ],
      "text/plain": [
       "         Unnamed: 0        n_views\n",
       "count  333688.00000  333688.000000\n",
       "mean   166843.50000       3.639184\n",
       "std     96327.57265      21.318328\n",
       "min         0.00000       1.000000\n",
       "25%     83421.75000       1.000000\n",
       "50%    166843.50000       1.000000\n",
       "75%    250265.25000       2.000000\n",
       "max    333687.00000    4095.000000"
      ]
     },
     "execution_count": 20,
     "metadata": {},
     "output_type": "execute_result"
    }
   ],
   "source": [
    "df_hfu.describe()"
   ]
  },
  {
   "cell_type": "markdown",
   "id": "119cd8ce",
   "metadata": {},
   "source": [
    "We group by url_domain and do some aggregate statistics. We define a \"High View User\" as someone who saw a domain more than 90 times in our sample period. This represents seeing the domain at least once per day."
   ]
  },
  {
   "cell_type": "code",
   "execution_count": 21,
   "id": "faa083d8",
   "metadata": {},
   "outputs": [
    {
     "data": {
      "text/html": [
       "<div>\n",
       "<style scoped>\n",
       "    .dataframe tbody tr th:only-of-type {\n",
       "        vertical-align: middle;\n",
       "    }\n",
       "\n",
       "    .dataframe tbody tr th {\n",
       "        vertical-align: top;\n",
       "    }\n",
       "\n",
       "    .dataframe thead th {\n",
       "        text-align: right;\n",
       "    }\n",
       "</style>\n",
       "<table border=\"1\" class=\"dataframe\">\n",
       "  <thead>\n",
       "    <tr style=\"text-align: right;\">\n",
       "      <th></th>\n",
       "      <th>n_high_viewers</th>\n",
       "      <th>n_users</th>\n",
       "      <th>frac_high_viewers</th>\n",
       "    </tr>\n",
       "  </thead>\n",
       "  <tbody>\n",
       "    <tr>\n",
       "      <th>count</th>\n",
       "      <td>1000.000000</td>\n",
       "      <td>1000.000000</td>\n",
       "      <td>241.000000</td>\n",
       "    </tr>\n",
       "    <tr>\n",
       "      <th>mean</th>\n",
       "      <td>1.278000</td>\n",
       "      <td>126.316000</td>\n",
       "      <td>0.017866</td>\n",
       "    </tr>\n",
       "    <tr>\n",
       "      <th>std</th>\n",
       "      <td>6.433203</td>\n",
       "      <td>145.067173</td>\n",
       "      <td>0.014698</td>\n",
       "    </tr>\n",
       "    <tr>\n",
       "      <th>min</th>\n",
       "      <td>0.000000</td>\n",
       "      <td>42.000000</td>\n",
       "      <td>0.000000</td>\n",
       "    </tr>\n",
       "    <tr>\n",
       "      <th>25%</th>\n",
       "      <td>0.000000</td>\n",
       "      <td>55.000000</td>\n",
       "      <td>0.007752</td>\n",
       "    </tr>\n",
       "    <tr>\n",
       "      <th>50%</th>\n",
       "      <td>1.000000</td>\n",
       "      <td>76.000000</td>\n",
       "      <td>0.014925</td>\n",
       "    </tr>\n",
       "    <tr>\n",
       "      <th>75%</th>\n",
       "      <td>1.000000</td>\n",
       "      <td>131.000000</td>\n",
       "      <td>0.021739</td>\n",
       "    </tr>\n",
       "    <tr>\n",
       "      <th>max</th>\n",
       "      <td>172.000000</td>\n",
       "      <td>1604.000000</td>\n",
       "      <td>0.107232</td>\n",
       "    </tr>\n",
       "  </tbody>\n",
       "</table>\n",
       "</div>"
      ],
      "text/plain": [
       "       n_high_viewers      n_users  frac_high_viewers\n",
       "count     1000.000000  1000.000000         241.000000\n",
       "mean         1.278000   126.316000           0.017866\n",
       "std          6.433203   145.067173           0.014698\n",
       "min          0.000000    42.000000           0.000000\n",
       "25%          0.000000    55.000000           0.007752\n",
       "50%          1.000000    76.000000           0.014925\n",
       "75%          1.000000   131.000000           0.021739\n",
       "max        172.000000  1604.000000           0.107232"
      ]
     },
     "execution_count": 21,
     "metadata": {},
     "output_type": "execute_result"
    }
   ],
   "source": [
    "dg = df_hfu.groupby('url_domain')\n",
    "domains = (\n",
    "    dg\n",
    "        .agg({\n",
    "            \"n_views\": lambda d: (d > 90).sum(),\n",
    "        })\n",
    "        .sort_values(\"n_views\", ascending=False)\n",
    "        .head(1000)\n",
    "        .rename(columns={\"n_views\": \"n_high_viewers\"})\n",
    "    .merge(\n",
    "        dg\n",
    "            .agg({\"n_views\": \"count\"})\n",
    "            .sort_values(\"n_views\", ascending=False)\n",
    "            .head(1000)\n",
    "            .rename(columns={'n_views': 'n_users'}),\n",
    "        right_index=True,\n",
    "        left_index=True,\n",
    "        how='outer',\n",
    "    )\n",
    ")\n",
    "domains['frac_high_viewers'] = domains.n_high_viewers / domains.n_users\n",
    "domains.describe()"
   ]
  },
  {
   "cell_type": "code",
   "execution_count": 22,
   "id": "4971e53b",
   "metadata": {},
   "outputs": [],
   "source": [
    "def get_domain_samples_raw(df, domains, field, N=25):\n",
    "    return (\n",
    "        domains\n",
    "            .sort_values(field, ascending=False)\n",
    "            .head(N)\n",
    "            .reset_index()\n",
    "            .merge(df, on='url_domain')\n",
    "    )\n",
    "\n",
    "def get_domain_samples(domains, field, N=25):\n",
    "    return domains.sort_values(field, ascending=False).head(N).reset_index()"
   ]
  },
  {
   "cell_type": "code",
   "execution_count": 23,
   "id": "a2069f03",
   "metadata": {},
   "outputs": [
    {
     "data": {
      "image/png": "[encoded data removed]",
      "text/plain": [
       "<Figure size 432x288 with 1 Axes>"
      ]
     },
     "metadata": {
      "needs_background": "light"
     },
     "output_type": "display_data"
    }
   ],
   "source": [
    "d = get_domain_samples_raw(df_hfu, domains, 'n_high_viewers')\n",
    "\n",
    "plt.figure()\n",
    "ax = sns.boxplot(data=d, x='url_domain', y='n_views')\n",
    "plt.xticks(rotation='vertical')\n",
    "ax.set_yscale('log')\n",
    "plt.xlabel('')\n",
    "plt.ylabel('Distribution of High View Users')\n",
    "plt.tight_layout()\n",
    "plt.show()"
   ]
  },
  {
   "cell_type": "code",
   "execution_count": 24,
   "id": "c6947c7a",
   "metadata": {},
   "outputs": [
    {
     "data": {
      "image/png": "[encoded data removed]",
      "text/plain": [
       "<Figure size 432x288 with 1 Axes>"
      ]
     },
     "metadata": {
      "needs_background": "light"
     },
     "output_type": "display_data"
    }
   ],
   "source": [
    "d = get_domain_samples(domains, 'n_high_viewers')\n",
    "\n",
    "plt.figure()\n",
    "sns.barplot(data=d, x='url_domain', y='n_high_viewers')\n",
    "save_tabular('n_high_viewers', d[['url_domain', 'n_high_viewers']])\n",
    "plt.xlabel('')\n",
    "plt.ylabel('Number of High View Users')\n",
    "plt.xticks(rotation='vertical')\n",
    "plt.tight_layout()\n",
    "plt.show()"
   ]
  },
  {
   "cell_type": "code",
   "execution_count": 25,
   "id": "f008a28c",
   "metadata": {},
   "outputs": [
    {
     "data": {
      "image/png": "[encoded data removed]",
      "text/plain": [
       "<Figure size 432x288 with 1 Axes>"
      ]
     },
     "metadata": {
      "needs_background": "light"
     },
     "output_type": "display_data"
    }
   ],
   "source": [
    "d = get_domain_samples(domains, 'n_high_viewers')\n",
    "\n",
    "plt.figure()\n",
    "sns.barplot(data=d, x='url_domain', y='frac_high_viewers')\n",
    "save_tabular('n_high_viewers_by_frac', d[['url_domain', 'frac_high_viewers']])\n",
    "\n",
    "plt.xlabel('')\n",
    "plt.ylabel('Fraction of High View Users')\n",
    "plt.xticks(rotation='vertical')\n",
    "plt.tight_layout()\n",
    "plt.show()"
   ]
  },
  {
   "cell_type": "code",
   "execution_count": 26,
   "id": "cc5efb51",
   "metadata": {
    "scrolled": false
   },
   "outputs": [
    {
     "data": {
      "image/png": "[encoded data removed]",
      "text/plain": [
       "<Figure size 432x288 with 1 Axes>"
      ]
     },
     "metadata": {
      "needs_background": "light"
     },
     "output_type": "display_data"
    }
   ],
   "source": [
    "Q = df_hfu.groupby('url_domain').sum().reset_index().n_views.quantile(0.99)\n",
    "d = get_domain_samples(\n",
    "    domains.query('n_users > @Q'),\n",
    "    'frac_high_viewers'\n",
    ")\n",
    "\n",
    "plt.figure()\n",
    "sns.barplot(data=d, x='url_domain', y='frac_high_viewers')\n",
    "save_tabular('frac_high_viewers_99pct', d[['url_domain', 'frac_high_viewers']])\n",
    "plt.xlabel('')\n",
    "plt.ylabel('Fraction of High View Users')\n",
    "plt.xticks(rotation='vertical')\n",
    "plt.tight_layout()\n",
    "plt.show()"
   ]
  },
  {
   "cell_type": "code",
   "execution_count": 27,
   "id": "db0404b8",
   "metadata": {},
   "outputs": [
    {
     "data": {
      "image/png": "[encoded data removed]",
      "text/plain": [
       "<Figure size 432x288 with 1 Axes>"
      ]
     },
     "metadata": {
      "needs_background": "light"
     },
     "output_type": "display_data"
    }
   ],
   "source": [
    "plt.figure()\n",
    "sns.histplot(data=domains, x='n_users')\n",
    "plt.show()"
   ]
  },
  {
   "cell_type": "markdown",
   "id": "653877e2",
   "metadata": {},
   "source": [
    "### Now let's look at just news domains"
   ]
  },
  {
   "cell_type": "code",
   "execution_count": 28,
   "id": "825852bd",
   "metadata": {},
   "outputs": [],
   "source": [
    "domains_news = data.filter_news_sources(domains)"
   ]
  },
  {
   "cell_type": "code",
   "execution_count": 29,
   "id": "a84181a8",
   "metadata": {
    "scrolled": true
   },
   "outputs": [
    {
     "data": {
      "image/png": "[encoded data removed]",
      "text/plain": [
       "<Figure size 432x288 with 1 Axes>"
      ]
     },
     "metadata": {
      "needs_background": "light"
     },
     "output_type": "display_data"
    }
   ],
   "source": [
    "d = get_domain_samples(\n",
    "    domains_news,\n",
    "    'frac_high_viewers',\n",
    "    N=50\n",
    ")\n",
    "\n",
    "plt.figure()\n",
    "sns.barplot(data=d,\n",
    "            x='url_domain',\n",
    "            y='frac_high_viewers',\n",
    "           )\n",
    "save_tabular('news_frac_high_viewers', d[['url_domain', 'frac_high_viewers']])\n",
    "plt.xlabel('')\n",
    "plt.ylabel('Percentage of high viewership users')\n",
    "plt.xticks(rotation='vertical')\n",
    "plt.tight_layout()\n",
    "plt.show()"
   ]
  },
  {
   "cell_type": "markdown",
   "id": "42ce5aad",
   "metadata": {},
   "source": [
    "# Additional Analysis\n",
    "\n",
    "We look at the two-sample Kolmogorov-Smirnov test between the top 20 facebook domain views and top 20 markup domain views to make sure they come from similar distributions. This gives us an idea of whether the underlying data of views is coming from comparable distributions"
   ]
  },
  {
   "cell_type": "code",
   "execution_count": 30,
   "id": "cd77130b",
   "metadata": {},
   "outputs": [
    {
     "data": {
      "image/png": "[encoded data removed]",
      "text/plain": [
       "<Figure size 432x288 with 1 Axes>"
      ]
     },
     "metadata": {
      "needs_background": "light"
     },
     "output_type": "display_data"
    },
    {
     "data": {
      "text/plain": [
       "KstestResult(statistic=1.0, pvalue=1.4508889103849681e-11)"
      ]
     },
     "execution_count": 30,
     "metadata": {},
     "output_type": "execute_result"
    }
   ],
   "source": [
    "import numpy as np\n",
    "\n",
    "def norm_cumsum(df):\n",
    "    df = df.cumsum()\n",
    "    return df / df.max()\n",
    "\n",
    "cbfb = data.joined_domains(how='outer')\n",
    "fb = cbfb.query('rank_fb > 0').sort_values('rank_fb').head(20).unique_users_fb\n",
    "cb = cbfb.query('rank_cb > 0').sort_values('rank_cb').head(20).unique_users_cb\n",
    "\n",
    "fb_cdf = norm_cumsum(fb)\n",
    "cb_cdf = norm_cumsum(cb)\n",
    "\n",
    "plt.figure()\n",
    "plt.plot(np.linspace(0, 1, len(fb_cdf)), fb_cdf, label='fb')\n",
    "plt.plot(np.linspace(0, 1, len(cb_cdf)), cb_cdf, label='cb')\n",
    "plt.legend()\n",
    "plt.show()\n",
    "\n",
    "from scipy import stats\n",
    "stats.ks_2samp(fb, cb)"
   ]
  },
  {
   "cell_type": "code",
   "execution_count": null,
   "id": "b48919c3",
   "metadata": {},
   "outputs": [],
   "source": []
  }
 ],
 "metadata": {
  "interpreter": {
   "hash": "3d3fcffa76e1ea9585fbd26781e65120ac5a40e5e91e6e286fbe3393b916e04d"
  },
  "kernelspec": {
   "display_name": "Python 3.8.12 64-bit ('fb-domain-verification': conda)",
   "name": "python3"
  },
  "language_info": {
   "codemirror_mode": {
    "name": "ipython",
    "version": 3
   },
   "file_extension": ".py",
   "mimetype": "text/x-python",
   "name": "python",
   "nbconvert_exporter": "python",
   "pygments_lexer": "ipython3",
   "version": "3.8.12"
  }
 },
 "nbformat": 4,
 "nbformat_minor": 5
}
